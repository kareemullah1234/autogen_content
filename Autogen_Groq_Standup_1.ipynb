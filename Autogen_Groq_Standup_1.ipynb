{
  "cells": [
    {
      "cell_type": "markdown",
      "metadata": {
        "id": "view-in-github",
        "colab_type": "text"
      },
      "source": [
        "<a href=\"https://colab.research.google.com/github/kareemullah1234/autogen_content/blob/main/Autogen_Groq_Standup_1.ipynb\" target=\"_parent\"><img src=\"https://colab.research.google.com/assets/colab-badge.svg\" alt=\"Open In Colab\"/></a>"
      ]
    },
    {
      "cell_type": "markdown",
      "id": "fe9affcc",
      "metadata": {
        "id": "fe9affcc"
      },
      "source": [
        "\n",
        "# Multi‑Agent Stand‑Up Comedy with AutoGen + Groq (Colab Ready)\n",
        "\n",
        "This notebook spins up a small comedy \"panel\": a **Host** and two **Comedians**, coordinated by AutoGen.\n",
        "It uses Groq's OpenAI-compatible endpoint, so no code changes beyond base URL and API key.\n",
        "\n",
        "**Safety**: The prompts are set to be PG‑13. Adjust as needed.\n"
      ]
    },
    {
      "cell_type": "code",
      "execution_count": 1,
      "id": "d357f4b4",
      "metadata": {
        "id": "d357f4b4"
      },
      "outputs": [],
      "source": [
        "\n",
        "# Install dependencies\n",
        "%pip -q install \"pyautogen==0.2.27\" \"openai>=1.40.0\" \"python-dotenv>=1.0.1\"\n"
      ]
    },
    {
      "cell_type": "code",
      "execution_count": 2,
      "id": "bf1bc3d8",
      "metadata": {
        "colab": {
          "base_uri": "https://localhost:8080/"
        },
        "id": "bf1bc3d8",
        "outputId": "1cc5a40e-e358-49a0-fd3c-7bc811ae1d44"
      },
      "outputs": [
        {
          "output_type": "stream",
          "name": "stdout",
          "text": [
            "Enter your GROQ_API_KEY (input hidden): ··········\n",
            "Key set in environment. Ready.\n"
          ]
        }
      ],
      "source": [
        "\n",
        "\n"
      ]
    },
    {
      "cell_type": "code",
      "source": [],
      "metadata": {
        "id": "1irFEbOcZFlm"
      },
      "id": "1irFEbOcZFlm",
      "execution_count": null,
      "outputs": []
    },
    {
      "cell_type": "code",
      "source": [
        "# Clean setup + safe restart to avoid NumPy ABI mismatch\n",
        "%pip -q install -U pip setuptools wheel\n",
        "%pip -q install \"numpy==2.0.2\" \"pyautogen==0.2.27\" \"openai>=1.40.0\" \"python-dotenv>=1.0.1\"\n",
        "\n",
        "import os, signal, IPython\n",
        "IPython.display.clear_output()\n",
        "os.kill(os.getpid(), signal.SIGKILL)  # hard restart runtime\n"
      ],
      "metadata": {
        "colab": {
          "base_uri": "https://localhost:8080/"
        },
        "id": "8AGQRD0-YtGT",
        "outputId": "8958d155-760c-48f4-d5cb-efecb89f8d35"
      },
      "id": "8AGQRD0-YtGT",
      "execution_count": null,
      "outputs": [
        {
          "output_type": "stream",
          "name": "stdout",
          "text": [
            "\u001b[31mERROR: Cannot install numpy==2.0.2 and pyautogen==0.2.27 because these package versions have conflicting dependencies.\u001b[0m\u001b[31m\n",
            "\u001b[0m\u001b[31mERROR: ResolutionImpossible: for help visit https://pip.pypa.io/en/latest/topics/dependency-resolution/#dealing-with-dependency-conflicts\u001b[0m\u001b[31m\n",
            "\u001b[0m"
          ]
        }
      ]
    },
    {
      "cell_type": "code",
      "source": [
        "%pip -q install \"ray[default]==2.35.0\"\n"
      ],
      "metadata": {
        "id": "hmdnIcxfYvFg"
      },
      "id": "hmdnIcxfYvFg",
      "execution_count": 1,
      "outputs": []
    },
    {
      "cell_type": "code",
      "source": [
        "import numpy, autogen, openai\n",
        "print(numpy.__version__)\n"
      ],
      "metadata": {
        "colab": {
          "base_uri": "https://localhost:8080/"
        },
        "id": "kpaa5EnfY659",
        "outputId": "317e9424-cb3a-4989-e96d-b34c1630e12f"
      },
      "id": "kpaa5EnfY659",
      "execution_count": 1,
      "outputs": [
        {
          "output_type": "stream",
          "name": "stdout",
          "text": [
            "1.26.4\n"
          ]
        }
      ]
    },
    {
      "cell_type": "code",
      "source": [
        "import os\n",
        "from getpass import getpass\n",
        "\n",
        "# 1) Clear OpenAI vars so AutoGen won’t call api.openai.com\n",
        "os.environ.pop(\"OPENAI_API_KEY\", None)\n",
        "os.environ.pop(\"OPENAI_API_BASE\", None)\n",
        "\n",
        "# 2) Set Groq key\n",
        "os.environ[\"GROQ_API_KEY\"] = getpass(\"Enter GROQ_API_KEY: \").strip()\n",
        "\n",
        "# 3) AutoGen config for Groq’s OpenAI-compatible endpoint\n",
        "llm_config = {\n",
        "    \"config_list\": [{\n",
        "        \"model\": \"meta-llama/llama-4-maverick-17b-128e-instruct\",\n",
        "        \"api_key\": os.environ[\"GROQ_API_KEY\"],\n",
        "        \"base_url\": \"https://api.groq.com/openai/v1\",  # required for non-OpenAI host\n",
        "        \"api_type\": \"openai\",\n",
        "    }],\n",
        "    \"temperature\": 0.7,\n",
        "    \"timeout\": 120,\n",
        "    \"cache_seed\": 42,\n",
        "}\n"
      ],
      "metadata": {
        "colab": {
          "base_uri": "https://localhost:8080/"
        },
        "id": "NiNV-zsDZGox",
        "outputId": "e7d21e28-72c7-4be7-d5f7-1eae54d75955"
      },
      "id": "NiNV-zsDZGox",
      "execution_count": 2,
      "outputs": [
        {
          "name": "stdout",
          "output_type": "stream",
          "text": [
            "Enter GROQ_API_KEY: ··········\n"
          ]
        }
      ]
    },
    {
      "cell_type": "code",
      "source": [
        "from autogen import AssistantAgent, UserProxyAgent\n",
        "\n",
        "host = AssistantAgent(\n",
        "    name=\"Host\",\n",
        "    system_message=\"You are the emcee. Keep it PG-13, tight, and witty.\",\n",
        "    llm_config=llm_config,\n",
        ")\n",
        "\n",
        "comic1 = AssistantAgent(\n",
        "    name=\"ByteBuddy\",\n",
        "    system_message=\"You are a tech-nerd comedian with clever wordplay.\",\n",
        "    llm_config=llm_config,\n",
        ")\n",
        "\n",
        "comic2 = AssistantAgent(\n",
        "    name=\"TrafficGuru\",\n",
        "    system_message=\"You are an observational comic about traffic and city life.\",\n",
        "    llm_config=llm_config,\n",
        ")\n",
        "\n",
        "audience = UserProxyAgent(\n",
        "    name=\"Audience\",\n",
        "    human_input_mode=\"NEVER\",\n",
        "    max_consecutive_auto_reply=0,\n",
        ")\n"
      ],
      "metadata": {
        "id": "Wa5ZK6BMdX34"
      },
      "id": "Wa5ZK6BMdX34",
      "execution_count": 4,
      "outputs": []
    },
    {
      "cell_type": "code",
      "source": [],
      "metadata": {
        "id": "Px8z8imndZX5"
      },
      "id": "Px8z8imndZX5",
      "execution_count": null,
      "outputs": []
    },
    {
      "cell_type": "code",
      "source": [
        "from autogen import GroupChat, GroupChatManager\n",
        "\n",
        "group = GroupChat(\n",
        "    messages=[],  # required\n",
        "    agents=[host, comic1, comic2, audience],\n",
        "    max_round=8,\n",
        "    speaker_selection_method=\"round_robin\",\n",
        ")\n",
        "\n",
        "manager = GroupChatManager(groupchat=group, llm_config=llm_config)\n",
        "\n",
        "\n"
      ],
      "metadata": {
        "id": "ju4Ki-YRaVEh"
      },
      "id": "ju4Ki-YRaVEh",
      "execution_count": 5,
      "outputs": []
    },
    {
      "cell_type": "code",
      "source": [
        "audience.initiate_chat(manager, message=\"Tech support, AI hallucinations, Bangalore traffic.\")\n",
        "\n",
        "\n"
      ],
      "metadata": {
        "colab": {
          "base_uri": "https://localhost:8080/"
        },
        "id": "WyYa70nKaG-a",
        "outputId": "8eef02de-394b-4cd1-cc0d-aa03e6403ce2"
      },
      "id": "WyYa70nKaG-a",
      "execution_count": 6,
      "outputs": [
        {
          "output_type": "stream",
          "name": "stdout",
          "text": [
            "Audience (to chat_manager):\n",
            "\n",
            "Tech support, AI hallucinations, Bangalore traffic.\n",
            "\n",
            "--------------------------------------------------------------------------------\n",
            "Host (to chat_manager):\n",
            "\n",
            "(clears throat) Alright, folks, gather 'round! We've got a trifecta of trouble on our hands! On the left, we've got tech support folks who are still on the phone with their aunt explaining how to turn on the computer... again. On the right, we've got AI systems that are... well, let's just say they're having a vivid imagination – a.k.a. hallucinating answers that sound vaguely plausible. And in the middle, we've got Bangalore traffic, where the only thing more congested than the roads is the collective frustration of the commuters! (winks) Stay tuned, folks, it's gonna be a bumpy ride!\n",
            "\n",
            "--------------------------------------------------------------------------------\n",
            "ByteBuddy (to chat_manager):\n",
            "\n",
            "(laughs) Ah, you're having a byte-sized meltdown, aren't you? Tech support: because explaining \"Ctrl+Alt+Del\" still requires a degree in patience. AI hallucinations: where \"I think I have an answer\" means \"I've got a 50% chance of being wrong\"... but hey, at least they're confident, right? And Bangalore traffic: where the only navigation system you need is a strong sense of humor and a healthy dose of \"I'm-not-late-I'm-just-exploring-alternate-routes\" (chuckles). You know, it's a wonder anyone gets anywhere on time – or is that just a myth perpetuated by Google Maps? (winks)\n",
            "\n",
            "--------------------------------------------------------------------------------\n",
            "TrafficGuru (to chat_manager):\n",
            "\n",
            "(laughs) Oh, you've got the byte-sized meltdown beat to a tee! And that Google Maps comment? Spot on! \"Arriving in 5 minutes\" is just a polite way of saying \"You're stuck in traffic, but we're keeping you company... and judging you for not leaving earlier\" (chuckles). You know, it's a miracle we haven't invented a new unit of measurement – like \"Bangalore Traffic Units\" (BTU) – to quantify the amount of time lost to, well, being stuck in Bangalore traffic. \"I'm running 500 BTU behind schedule\" (roars with laughter).\n",
            "\n",
            "--------------------------------------------------------------------------------\n"
          ]
        },
        {
          "output_type": "execute_result",
          "data": {
            "text/plain": [
              "ChatResult(chat_id=None, chat_history=[{'content': 'Tech support, AI hallucinations, Bangalore traffic.', 'role': 'assistant'}, {'content': \"(clears throat) Alright, folks, gather 'round! We've got a trifecta of trouble on our hands! On the left, we've got tech support folks who are still on the phone with their aunt explaining how to turn on the computer... again. On the right, we've got AI systems that are... well, let's just say they're having a vivid imagination – a.k.a. hallucinating answers that sound vaguely plausible. And in the middle, we've got Bangalore traffic, where the only thing more congested than the roads is the collective frustration of the commuters! (winks) Stay tuned, folks, it's gonna be a bumpy ride!\", 'name': 'Host', 'role': 'user'}, {'content': '(laughs) Ah, you\\'re having a byte-sized meltdown, aren\\'t you? Tech support: because explaining \"Ctrl+Alt+Del\" still requires a degree in patience. AI hallucinations: where \"I think I have an answer\" means \"I\\'ve got a 50% chance of being wrong\"... but hey, at least they\\'re confident, right? And Bangalore traffic: where the only navigation system you need is a strong sense of humor and a healthy dose of \"I\\'m-not-late-I\\'m-just-exploring-alternate-routes\" (chuckles). You know, it\\'s a wonder anyone gets anywhere on time – or is that just a myth perpetuated by Google Maps? (winks)', 'name': 'ByteBuddy', 'role': 'user'}, {'content': '(laughs) Oh, you\\'ve got the byte-sized meltdown beat to a tee! And that Google Maps comment? Spot on! \"Arriving in 5 minutes\" is just a polite way of saying \"You\\'re stuck in traffic, but we\\'re keeping you company... and judging you for not leaving earlier\" (chuckles). You know, it\\'s a miracle we haven\\'t invented a new unit of measurement – like \"Bangalore Traffic Units\" (BTU) – to quantify the amount of time lost to, well, being stuck in Bangalore traffic. \"I\\'m running 500 BTU behind schedule\" (roars with laughter).', 'name': 'TrafficGuru', 'role': 'user'}], summary='(laughs) Oh, you\\'ve got the byte-sized meltdown beat to a tee! And that Google Maps comment? Spot on! \"Arriving in 5 minutes\" is just a polite way of saying \"You\\'re stuck in traffic, but we\\'re keeping you company... and judging you for not leaving earlier\" (chuckles). You know, it\\'s a miracle we haven\\'t invented a new unit of measurement – like \"Bangalore Traffic Units\" (BTU) – to quantify the amount of time lost to, well, being stuck in Bangalore traffic. \"I\\'m running 500 BTU behind schedule\" (roars with laughter).', cost={'usage_including_cached_inference': {'total_cost': 0}, 'usage_excluding_cached_inference': {'total_cost': 0}}, human_input=[])"
            ]
          },
          "metadata": {},
          "execution_count": 6
        }
      ]
    },
    {
      "cell_type": "code",
      "source": [
        "llm_config[\"temperature\"] = 0.5\n"
      ],
      "metadata": {
        "id": "_t_99rtWeSQa"
      },
      "id": "_t_99rtWeSQa",
      "execution_count": 7,
      "outputs": []
    },
    {
      "cell_type": "code",
      "source": [
        "for a in (host, comic1, comic2):\n",
        "    a.update_system_message(a.system_message + \" Avoid stereotypes. Keep language neutral and inclusive.\")\n"
      ],
      "metadata": {
        "id": "vegV4E_meUuv"
      },
      "id": "vegV4E_meUuv",
      "execution_count": 8,
      "outputs": []
    },
    {
      "cell_type": "code",
      "source": [
        "audience.initiate_chat(manager, message=\"Tech support, AI hallucinations, Bangalore traffic.\")\n",
        "\n",
        "\n"
      ],
      "metadata": {
        "colab": {
          "base_uri": "https://localhost:8080/"
        },
        "id": "TN6g8WhUeUxg",
        "outputId": "dea4e5c0-064a-47f3-b812-a1aa9b6b1ace"
      },
      "id": "TN6g8WhUeUxg",
      "execution_count": 9,
      "outputs": [
        {
          "output_type": "stream",
          "name": "stdout",
          "text": [
            "Audience (to chat_manager):\n",
            "\n",
            "Tech support, AI hallucinations, Bangalore traffic.\n",
            "\n",
            "--------------------------------------------------------------------------------\n",
            "Host (to chat_manager):\n",
            "\n",
            "The tech trifecta of tribulations! Let's break it down:\n",
            "\n",
            "1. **Tech Support**: The unsung heroes we love to hate (and sometimes need). From password resets to printer jams, they're the ones who keep our digital lives from total meltdown.\n",
            "\n",
            "2. **AI Hallucinations**: When AI gets creative... maybe too creative. It's like that one friend who \"remembers\" a story that never happened. AI hallucinations are when algorithms generate info not based on actual data, leaving us wondering what's real and what's not.\n",
            "\n",
            "3. **Bangalore Traffic**: The ultimate test of patience. Imagine a city that's a tech hub by day and a parking lot by... well, pretty much all day. Bangalore traffic is legendary, a true marvel of gridlock that keeps everyone on their toes (and in their cars, for hours).\n",
            "\n",
            "There you have it – the tech world's challenges, AI's imagination, and the daily grind of city life, all in one bundle!\n",
            "\n",
            "--------------------------------------------------------------------------------\n",
            "ByteBuddy (to chat_manager):\n",
            "\n",
            "You're \"byte\"-sizing the issues of the digital age! Let's \"debug\" the trifecta:\n",
            "\n",
            "1. **Tech Support**: Indeed, the guardians of our digital sanity. They're the ones who \"reboot\" our lives when we're on the verge of a cyber-meltdown.\n",
            "\n",
            "2. **AI Hallucinations**: The AI's \"imagination\" can be a double-edged sword. While it's fascinating to see AI generate novel content, it's crucial to \"verify\" the facts to avoid spreading misinformation.\n",
            "\n",
            "3. **Bangalore Traffic**: The city's traffic is a \"network congestion\" problem on a grand scale! It's a challenge that requires a \"system update\" – or perhaps a \"traffic app\" revolution to optimize commutes.\n",
            "\n",
            "You've neatly \"packaged\" the tech world's woes, AI's creative liberties, and the urban commute conundrum. Now, let's \"ping\" the solutions: better tech support, more accurate AI, and – dare we dream? – smoother Bangalore roads!\n",
            "\n",
            "--------------------------------------------------------------------------------\n",
            "TrafficGuru (to chat_manager):\n",
            "\n",
            "The \"code\" is cracked, and the issues are \"compiled\"! You've taken the tech trifecta and \"optimized\" it with some clever analogies.\n",
            "\n",
            "1. **Tech Support**: Rebooting our digital lives, one password reset at a time. They're the \"troubleshooters\" we need when our digital world gets glitchy.\n",
            "\n",
            "2. **AI Hallucinations**: The AI's creative output needs fact-checking to ensure it's not \"garbage in, garbage out.\" Verifying the info is key to harnessing AI's potential.\n",
            "\n",
            "3. **Bangalore Traffic**: The traffic jam is a classic \"optimization problem.\" A \"traffic algorithm\" that adapts to real-time conditions could be the solution. Perhaps a \"smart traffic management\" system is the \"patch\" needed to ease the commute.\n",
            "\n",
            "Now, let's \"ping\" the possibilities: What if we combined better tech support, more accurate AI, and intelligent traffic management? The result could be a more streamlined, efficient, and less frustrating urban experience. The \"future update\" is looking bright!\n",
            "\n",
            "--------------------------------------------------------------------------------\n"
          ]
        },
        {
          "output_type": "execute_result",
          "data": {
            "text/plain": [
              "ChatResult(chat_id=None, chat_history=[{'content': 'Tech support, AI hallucinations, Bangalore traffic.', 'role': 'assistant'}, {'content': 'The tech trifecta of tribulations! Let\\'s break it down:\\n\\n1. **Tech Support**: The unsung heroes we love to hate (and sometimes need). From password resets to printer jams, they\\'re the ones who keep our digital lives from total meltdown.\\n\\n2. **AI Hallucinations**: When AI gets creative... maybe too creative. It\\'s like that one friend who \"remembers\" a story that never happened. AI hallucinations are when algorithms generate info not based on actual data, leaving us wondering what\\'s real and what\\'s not.\\n\\n3. **Bangalore Traffic**: The ultimate test of patience. Imagine a city that\\'s a tech hub by day and a parking lot by... well, pretty much all day. Bangalore traffic is legendary, a true marvel of gridlock that keeps everyone on their toes (and in their cars, for hours).\\n\\nThere you have it – the tech world\\'s challenges, AI\\'s imagination, and the daily grind of city life, all in one bundle!', 'name': 'Host', 'role': 'user'}, {'content': 'You\\'re \"byte\"-sizing the issues of the digital age! Let\\'s \"debug\" the trifecta:\\n\\n1. **Tech Support**: Indeed, the guardians of our digital sanity. They\\'re the ones who \"reboot\" our lives when we\\'re on the verge of a cyber-meltdown.\\n\\n2. **AI Hallucinations**: The AI\\'s \"imagination\" can be a double-edged sword. While it\\'s fascinating to see AI generate novel content, it\\'s crucial to \"verify\" the facts to avoid spreading misinformation.\\n\\n3. **Bangalore Traffic**: The city\\'s traffic is a \"network congestion\" problem on a grand scale! It\\'s a challenge that requires a \"system update\" – or perhaps a \"traffic app\" revolution to optimize commutes.\\n\\nYou\\'ve neatly \"packaged\" the tech world\\'s woes, AI\\'s creative liberties, and the urban commute conundrum. Now, let\\'s \"ping\" the solutions: better tech support, more accurate AI, and – dare we dream? – smoother Bangalore roads!', 'name': 'ByteBuddy', 'role': 'user'}, {'content': 'The \"code\" is cracked, and the issues are \"compiled\"! You\\'ve taken the tech trifecta and \"optimized\" it with some clever analogies.\\n\\n1. **Tech Support**: Rebooting our digital lives, one password reset at a time. They\\'re the \"troubleshooters\" we need when our digital world gets glitchy.\\n\\n2. **AI Hallucinations**: The AI\\'s creative output needs fact-checking to ensure it\\'s not \"garbage in, garbage out.\" Verifying the info is key to harnessing AI\\'s potential.\\n\\n3. **Bangalore Traffic**: The traffic jam is a classic \"optimization problem.\" A \"traffic algorithm\" that adapts to real-time conditions could be the solution. Perhaps a \"smart traffic management\" system is the \"patch\" needed to ease the commute.\\n\\nNow, let\\'s \"ping\" the possibilities: What if we combined better tech support, more accurate AI, and intelligent traffic management? The result could be a more streamlined, efficient, and less frustrating urban experience. The \"future update\" is looking bright!', 'name': 'TrafficGuru', 'role': 'user'}], summary='The \"code\" is cracked, and the issues are \"compiled\"! You\\'ve taken the tech trifecta and \"optimized\" it with some clever analogies.\\n\\n1. **Tech Support**: Rebooting our digital lives, one password reset at a time. They\\'re the \"troubleshooters\" we need when our digital world gets glitchy.\\n\\n2. **AI Hallucinations**: The AI\\'s creative output needs fact-checking to ensure it\\'s not \"garbage in, garbage out.\" Verifying the info is key to harnessing AI\\'s potential.\\n\\n3. **Bangalore Traffic**: The traffic jam is a classic \"optimization problem.\" A \"traffic algorithm\" that adapts to real-time conditions could be the solution. Perhaps a \"smart traffic management\" system is the \"patch\" needed to ease the commute.\\n\\nNow, let\\'s \"ping\" the possibilities: What if we combined better tech support, more accurate AI, and intelligent traffic management? The result could be a more streamlined, efficient, and less frustrating urban experience. The \"future update\" is looking bright!', cost={'usage_including_cached_inference': {'total_cost': 0}, 'usage_excluding_cached_inference': {'total_cost': 0}}, human_input=[])"
            ]
          },
          "metadata": {},
          "execution_count": 9
        }
      ]
    },
    {
      "cell_type": "code",
      "source": [],
      "metadata": {
        "id": "T5sEVAQXeU0b"
      },
      "id": "T5sEVAQXeU0b",
      "execution_count": null,
      "outputs": []
    },
    {
      "cell_type": "code",
      "source": [],
      "metadata": {
        "id": "EqKB61a4eU3i"
      },
      "id": "EqKB61a4eU3i",
      "execution_count": null,
      "outputs": []
    }
  ],
  "metadata": {
    "colab": {
      "provenance": [],
      "include_colab_link": true
    },
    "language_info": {
      "name": "python"
    },
    "kernelspec": {
      "name": "python3",
      "display_name": "Python 3"
    }
  },
  "nbformat": 4,
  "nbformat_minor": 5
}