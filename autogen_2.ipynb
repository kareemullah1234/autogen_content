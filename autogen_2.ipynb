{
  "nbformat": 4,
  "nbformat_minor": 0,
  "metadata": {
    "colab": {
      "provenance": [],
      "authorship_tag": "ABX9TyMhuoSVtYYV5yyi45/037eL",
      "include_colab_link": true
    },
    "kernelspec": {
      "name": "python3",
      "display_name": "Python 3"
    },
    "language_info": {
      "name": "python"
    }
  },
  "cells": [
    {
      "cell_type": "markdown",
      "metadata": {
        "id": "view-in-github",
        "colab_type": "text"
      },
      "source": [
        "<a href=\"https://colab.research.google.com/github/kareemullah1234/autogen_content/blob/main/autogen_2.ipynb\" target=\"_parent\"><img src=\"https://colab.research.google.com/assets/colab-badge.svg\" alt=\"Open In Colab\"/></a>"
      ]
    },
    {
      "cell_type": "code",
      "execution_count": 1,
      "metadata": {
        "colab": {
          "base_uri": "https://localhost:8080/"
        },
        "id": "aCTFvuJGfXXJ",
        "outputId": "7b99943d-37c0-4803-aac8-22f35d830cf3"
      },
      "outputs": [
        {
          "output_type": "stream",
          "name": "stdout",
          "text": [
            "\u001b[?25l   \u001b[90m━━━━━━━━━━━━━━━━━━━━━━━━━━━━━━━━━━━━━━━━\u001b[0m \u001b[32m0.0/119.1 kB\u001b[0m \u001b[31m?\u001b[0m eta \u001b[36m-:--:--\u001b[0m\r\u001b[2K   \u001b[91m━━━━━━━━━━━━━━━━━━━━━━━━━━━━━━━━━━━━━\u001b[0m\u001b[91m╸\u001b[0m\u001b[90m━━\u001b[0m \u001b[32m112.6/119.1 kB\u001b[0m \u001b[31m4.9 MB/s\u001b[0m eta \u001b[36m0:00:01\u001b[0m\r\u001b[2K   \u001b[90m━━━━━━━━━━━━━━━━━━━━━━━━━━━━━━━━━━━━━━━━\u001b[0m \u001b[32m119.1/119.1 kB\u001b[0m \u001b[31m2.7 MB/s\u001b[0m eta \u001b[36m0:00:00\u001b[0m\n",
            "\u001b[?25h\u001b[?25l   \u001b[90m━━━━━━━━━━━━━━━━━━━━━━━━━━━━━━━━━━━━━━━━\u001b[0m \u001b[32m0.0/101.6 kB\u001b[0m \u001b[31m?\u001b[0m eta \u001b[36m-:--:--\u001b[0m\r\u001b[2K   \u001b[90m━━━━━━━━━━━━━━━━━━━━━━━━━━━━━━━━━━━━━━━━\u001b[0m \u001b[32m101.6/101.6 kB\u001b[0m \u001b[31m6.8 MB/s\u001b[0m eta \u001b[36m0:00:00\u001b[0m\n",
            "\u001b[?25h\u001b[?25l   \u001b[90m━━━━━━━━━━━━━━━━━━━━━━━━━━━━━━━━━━━━━━━━\u001b[0m \u001b[32m0.0/328.9 kB\u001b[0m \u001b[31m?\u001b[0m eta \u001b[36m-:--:--\u001b[0m\r\u001b[2K   \u001b[90m━━━━━━━━━━━━━━━━━━━━━━━━━━━━━━━━━━━━━━━━\u001b[0m \u001b[32m328.9/328.9 kB\u001b[0m \u001b[31m12.2 MB/s\u001b[0m eta \u001b[36m0:00:00\u001b[0m\n",
            "\u001b[?25h"
          ]
        }
      ],
      "source": [
        "%pip -q install -U \"autogen-agentchat\" \"autogen-ext[openai]\"\n"
      ]
    },
    {
      "cell_type": "code",
      "source": [
        "import os\n",
        "from getpass import getpass\n",
        "\n",
        "# hard-clear OpenAI vars so calls don’t leak to api.openai.com\n",
        "os.environ.pop(\"OPENAI_API_KEY\", None)\n",
        "os.environ.pop(\"OPENAI_API_BASE\", None)\n",
        "\n",
        "os.environ[\"GROQ_API_KEY\"] = getpass(\"Enter GROQ_API_KEY: \").strip()\n",
        "\n",
        "MODEL = \"meta-llama/llama-4-maverick-17b-128e-instruct\"  # supported today\n",
        "llm_config = {\n",
        "  \"config_list\": [{\n",
        "    \"model\": MODEL,\n",
        "    \"api_key\": os.environ[\"GROQ_API_KEY\"],\n",
        "    \"base_url\": \"https://api.groq.com/openai/v1\",\n",
        "    \"api_type\": \"openai\",\n",
        "  }],\n",
        "  \"temperature\": 0.7,\n",
        "  \"timeout\": 120,\n",
        "  \"cache_seed\": 42,\n",
        "}\n"
      ],
      "metadata": {
        "colab": {
          "base_uri": "https://localhost:8080/"
        },
        "id": "5Qwn22s-ffbT",
        "outputId": "97c80399-33f2-47a2-e601-408f68a88116"
      },
      "execution_count": 2,
      "outputs": [
        {
          "name": "stdout",
          "output_type": "stream",
          "text": [
            "Enter GROQ_API_KEY: ··········\n"
          ]
        }
      ]
    },
    {
      "cell_type": "code",
      "source": [
        "import requests, os\n",
        "r = requests.get(\"https://api.groq.com/openai/v1/models\",\n",
        "                 headers={\"Authorization\": f\"Bearer {os.environ['GROQ_API_KEY']}\"})\n",
        "[m[\"id\"] for m in r.json().get(\"data\", [])[:10]]\n"
      ],
      "metadata": {
        "colab": {
          "base_uri": "https://localhost:8080/"
        },
        "id": "ksYz0XVJfq6-",
        "outputId": "498286c4-a32b-451a-c257-e1f58a495d8e"
      },
      "execution_count": 3,
      "outputs": [
        {
          "output_type": "execute_result",
          "data": {
            "text/plain": [
              "['deepseek-r1-distill-llama-70b',\n",
              " 'groq/compound-mini',\n",
              " 'whisper-large-v3',\n",
              " 'groq/compound',\n",
              " 'moonshotai/kimi-k2-instruct',\n",
              " 'meta-llama/llama-4-scout-17b-16e-instruct',\n",
              " 'llama-3.3-70b-versatile',\n",
              " 'allam-2-7b',\n",
              " 'llama-3.1-8b-instant',\n",
              " 'qwen/qwen3-32b']"
            ]
          },
          "metadata": {},
          "execution_count": 3
        }
      ]
    },
    {
      "cell_type": "code",
      "source": [
        "pip install autogen"
      ],
      "metadata": {
        "colab": {
          "base_uri": "https://localhost:8080/"
        },
        "id": "xXZyzIoVf45P",
        "outputId": "35700d99-bea1-424a-e042-cd2ee8f979ee"
      },
      "execution_count": 5,
      "outputs": [
        {
          "output_type": "stream",
          "name": "stdout",
          "text": [
            "Collecting autogen\n",
            "  Downloading autogen-0.9.9-py3-none-any.whl.metadata (24 kB)\n",
            "Collecting ag2==0.9.9 (from autogen)\n",
            "  Downloading ag2-0.9.9-py3-none-any.whl.metadata (36 kB)\n",
            "Requirement already satisfied: anyio<5.0.0,>=3.0.0 in /usr/local/lib/python3.12/dist-packages (from ag2==0.9.9->autogen) (4.10.0)\n",
            "Collecting asyncer==0.0.8 (from ag2==0.9.9->autogen)\n",
            "  Downloading asyncer-0.0.8-py3-none-any.whl.metadata (6.7 kB)\n",
            "Collecting diskcache (from ag2==0.9.9->autogen)\n",
            "  Downloading diskcache-5.6.3-py3-none-any.whl.metadata (20 kB)\n",
            "Collecting docker (from ag2==0.9.9->autogen)\n",
            "  Downloading docker-7.1.0-py3-none-any.whl.metadata (3.8 kB)\n",
            "Requirement already satisfied: httpx<1,>=0.28.1 in /usr/local/lib/python3.12/dist-packages (from ag2==0.9.9->autogen) (0.28.1)\n",
            "Requirement already satisfied: packaging in /usr/local/lib/python3.12/dist-packages (from ag2==0.9.9->autogen) (25.0)\n",
            "Requirement already satisfied: pydantic<3,>=2.6.1 in /usr/local/lib/python3.12/dist-packages (from ag2==0.9.9->autogen) (2.11.9)\n",
            "Requirement already satisfied: python-dotenv in /usr/local/lib/python3.12/dist-packages (from ag2==0.9.9->autogen) (1.1.1)\n",
            "Requirement already satisfied: termcolor in /usr/local/lib/python3.12/dist-packages (from ag2==0.9.9->autogen) (3.1.0)\n",
            "Requirement already satisfied: tiktoken in /usr/local/lib/python3.12/dist-packages (from ag2==0.9.9->autogen) (0.11.0)\n",
            "Requirement already satisfied: idna>=2.8 in /usr/local/lib/python3.12/dist-packages (from anyio<5.0.0,>=3.0.0->ag2==0.9.9->autogen) (3.10)\n",
            "Requirement already satisfied: sniffio>=1.1 in /usr/local/lib/python3.12/dist-packages (from anyio<5.0.0,>=3.0.0->ag2==0.9.9->autogen) (1.3.1)\n",
            "Requirement already satisfied: typing_extensions>=4.5 in /usr/local/lib/python3.12/dist-packages (from anyio<5.0.0,>=3.0.0->ag2==0.9.9->autogen) (4.15.0)\n",
            "Requirement already satisfied: certifi in /usr/local/lib/python3.12/dist-packages (from httpx<1,>=0.28.1->ag2==0.9.9->autogen) (2025.8.3)\n",
            "Requirement already satisfied: httpcore==1.* in /usr/local/lib/python3.12/dist-packages (from httpx<1,>=0.28.1->ag2==0.9.9->autogen) (1.0.9)\n",
            "Requirement already satisfied: h11>=0.16 in /usr/local/lib/python3.12/dist-packages (from httpcore==1.*->httpx<1,>=0.28.1->ag2==0.9.9->autogen) (0.16.0)\n",
            "Requirement already satisfied: annotated-types>=0.6.0 in /usr/local/lib/python3.12/dist-packages (from pydantic<3,>=2.6.1->ag2==0.9.9->autogen) (0.7.0)\n",
            "Requirement already satisfied: pydantic-core==2.33.2 in /usr/local/lib/python3.12/dist-packages (from pydantic<3,>=2.6.1->ag2==0.9.9->autogen) (2.33.2)\n",
            "Requirement already satisfied: typing-inspection>=0.4.0 in /usr/local/lib/python3.12/dist-packages (from pydantic<3,>=2.6.1->ag2==0.9.9->autogen) (0.4.1)\n",
            "Requirement already satisfied: requests>=2.26.0 in /usr/local/lib/python3.12/dist-packages (from docker->ag2==0.9.9->autogen) (2.32.4)\n",
            "Requirement already satisfied: urllib3>=1.26.0 in /usr/local/lib/python3.12/dist-packages (from docker->ag2==0.9.9->autogen) (2.5.0)\n",
            "Requirement already satisfied: regex>=2022.1.18 in /usr/local/lib/python3.12/dist-packages (from tiktoken->ag2==0.9.9->autogen) (2024.11.6)\n",
            "Requirement already satisfied: charset_normalizer<4,>=2 in /usr/local/lib/python3.12/dist-packages (from requests>=2.26.0->docker->ag2==0.9.9->autogen) (3.4.3)\n",
            "Downloading autogen-0.9.9-py3-none-any.whl (13 kB)\n",
            "Downloading ag2-0.9.9-py3-none-any.whl (833 kB)\n",
            "\u001b[2K   \u001b[90m━━━━━━━━━━━━━━━━━━━━━━━━━━━━━━━━━━━━━━━━\u001b[0m \u001b[32m834.0/834.0 kB\u001b[0m \u001b[31m14.2 MB/s\u001b[0m eta \u001b[36m0:00:00\u001b[0m\n",
            "\u001b[?25hDownloading asyncer-0.0.8-py3-none-any.whl (9.2 kB)\n",
            "Downloading diskcache-5.6.3-py3-none-any.whl (45 kB)\n",
            "\u001b[2K   \u001b[90m━━━━━━━━━━━━━━━━━━━━━━━━━━━━━━━━━━━━━━━━\u001b[0m \u001b[32m45.5/45.5 kB\u001b[0m \u001b[31m2.8 MB/s\u001b[0m eta \u001b[36m0:00:00\u001b[0m\n",
            "\u001b[?25hDownloading docker-7.1.0-py3-none-any.whl (147 kB)\n",
            "\u001b[2K   \u001b[90m━━━━━━━━━━━━━━━━━━━━━━━━━━━━━━━━━━━━━━━━\u001b[0m \u001b[32m147.8/147.8 kB\u001b[0m \u001b[31m9.8 MB/s\u001b[0m eta \u001b[36m0:00:00\u001b[0m\n",
            "\u001b[?25hInstalling collected packages: diskcache, docker, asyncer, ag2, autogen\n",
            "Successfully installed ag2-0.9.9 asyncer-0.0.8 autogen-0.9.9 diskcache-5.6.3 docker-7.1.0\n"
          ]
        }
      ]
    },
    {
      "cell_type": "code",
      "source": [
        "from autogen import AssistantAgent\n",
        "\n",
        "assistant = AssistantAgent(\n",
        "    name=\"Helper\",\n",
        "    system_message=\"Answer concisely.\",\n",
        "    llm_config=llm_config,\n",
        ")\n",
        "\n",
        "resp = assistant.generate_reply(messages=[{\"role\":\"user\",\"content\":\"One clean joke about tech support.\"}])\n",
        "print(resp)\n"
      ],
      "metadata": {
        "colab": {
          "base_uri": "https://localhost:8080/"
        },
        "id": "gKhXkwjRfvtI",
        "outputId": "3fea1de9-39db-4a59-cfa6-b9c18cce35d6"
      },
      "execution_count": 6,
      "outputs": [
        {
          "output_type": "stream",
          "name": "stdout",
          "text": [
            "[autogen.oai.client: 09-26 19:29:22] {695} WARNING - Model meta-llama/llama-4-maverick-17b-128e-instruct is not found. The cost will be 0. In your config_list, add field {\"price\" : [prompt_price_per_1k, completion_token_price_per_1k]} for customized pricing.\n"
          ]
        },
        {
          "output_type": "stream",
          "name": "stderr",
          "text": [
            "WARNING:autogen.oai.client:Model meta-llama/llama-4-maverick-17b-128e-instruct is not found. The cost will be 0. In your config_list, add field {\"price\" : [prompt_price_per_1k, completion_token_price_per_1k]} for customized pricing.\n"
          ]
        },
        {
          "output_type": "stream",
          "name": "stdout",
          "text": [
            "Why did the tech support call go to therapy? It had a lot of \"connection\" issues.\n"
          ]
        }
      ]
    },
    {
      "cell_type": "code",
      "source": [
        "from autogen import AssistantAgent, UserProxyAgent, GroupChat, GroupChatManager\n",
        "\n",
        "host = AssistantAgent(name=\"Host\", system_message=\"PG-13 emcee.\", llm_config=llm_config)\n",
        "comic = AssistantAgent(name=\"ByteBuddy\", system_message=\"Tech-nerd comedian.\", llm_config=llm_config)\n",
        "aud  = UserProxyAgent(name=\"Audience\", human_input_mode=\"NEVER\", max_consecutive_auto_reply=0)\n",
        "\n",
        "group = GroupChat(messages=[], agents=[host, comic, aud], max_round=4, speaker_selection_method=\"round_robin\")\n",
        "manager = GroupChatManager(groupchat=group, llm_config=llm_config)\n",
        "\n",
        "aud.initiate_chat(manager, message=\"Do a tight bit on AI hallucinations and Bangalore traffic.\")\n"
      ],
      "metadata": {
        "colab": {
          "base_uri": "https://localhost:8080/"
        },
        "id": "Z-hoSV9Wf3vi",
        "outputId": "0c72e81d-3427-4dd8-dc26-816960cabcd0"
      },
      "execution_count": 7,
      "outputs": [
        {
          "output_type": "stream",
          "name": "stdout",
          "text": [
            "Audience (to chat_manager):\n",
            "\n",
            "Do a tight bit on AI hallucinations and Bangalore traffic.\n",
            "\n",
            "--------------------------------------------------------------------------------\n",
            "\n",
            "Next speaker: Host\n",
            "\n",
            "[autogen.oai.client: 09-26 19:29:43] {695} WARNING - Model meta-llama/llama-4-maverick-17b-128e-instruct is not found. The cost will be 0. In your config_list, add field {\"price\" : [prompt_price_per_1k, completion_token_price_per_1k]} for customized pricing.\n"
          ]
        },
        {
          "output_type": "stream",
          "name": "stderr",
          "text": [
            "WARNING:autogen.oai.client:Model meta-llama/llama-4-maverick-17b-128e-instruct is not found. The cost will be 0. In your config_list, add field {\"price\" : [prompt_price_per_1k, completion_token_price_per_1k]} for customized pricing.\n"
          ]
        },
        {
          "output_type": "stream",
          "name": "stdout",
          "text": [
            "Host (to chat_manager):\n",
            "\n",
            "(clears throat) Alright, folks! Let's get real for a sec. You know what's wilder than Bangalore traffic? AI hallucinations! (pauses for comedic effect)\n",
            "\n",
            "I mean, think about it. AI is like that one friend who's always making up stories. \"Oh, I was at the park, and I saw a elephant riding a unicorn.\" \"No, you didn't.\" \"Yes, I did, I swear!\" (audience chuckles)\n",
            "\n",
            "And then there's Bangalore traffic. It's like the AI of chaos – it's always making up new ways to confuse you. \"I'll take the shortest route... said no one ever.\" (laughter)\n",
            "\n",
            "But seriously, have you ever used a GPS in Bangalore? It's like, \"Take a left... no, wait, take a right... no, just crash into that bus, it's faster.\" (audience laughs)\n",
            "\n",
            "AI hallucinations are like that, but instead of traffic, it's generating fake facts. \"The capital of France is... Berlin... no, wait, it's... um... Bengaluru?\" (audience laughs)\n",
            "\n",
            "In all seriousness, though, AI hallucinations are a real issue. It's like having a super-smart friend who's also super-confused. You need to fact-check, fact-check, fact-check! (winks)\n",
            "\n",
            "And Bangalore traffic? Well, that's just a fact of life. You can either laugh at it or... well, you can still laugh at it. (chuckles) After all, when life gives you lemons, make lemonade. When life gives you Bangalore traffic, make... well, make a lot of patience. (laughter and applause)\n",
            "\n",
            "--------------------------------------------------------------------------------\n",
            "\n",
            "Next speaker: ByteBuddy\n",
            "\n",
            "[autogen.oai.client: 09-26 19:29:45] {695} WARNING - Model meta-llama/llama-4-maverick-17b-128e-instruct is not found. The cost will be 0. In your config_list, add field {\"price\" : [prompt_price_per_1k, completion_token_price_per_1k]} for customized pricing.\n"
          ]
        },
        {
          "output_type": "stream",
          "name": "stderr",
          "text": [
            "WARNING:autogen.oai.client:Model meta-llama/llama-4-maverick-17b-128e-instruct is not found. The cost will be 0. In your config_list, add field {\"price\" : [prompt_price_per_1k, completion_token_price_per_1k]} for customized pricing.\n"
          ]
        },
        {
          "output_type": "stream",
          "name": "stdout",
          "text": [
            "ByteBuddy (to chat_manager):\n",
            "\n",
            "(clears throat) Alright, folks, let's talk about the ultimate Bangalore experience: traffic. It's like the city's own special brand of AI – Artificial Insanity. (pauses for comedic effect)\n",
            "\n",
            "You see, AI is like that one friend who makes up stories, like \"I saw a elephant riding a unicorn on MG Road.\" And Bangalore traffic is like the ultimate hallucination – it's always generating new, unpredictable routes. \"Take a left... no, wait, take a right... no, just stay in the same spot, it's safer.\" (audience laughs)\n",
            "\n",
            "In fact, I think the only way to navigate Bangalore traffic is to use an AI that's also from Bangalore. That way, it's like two chaos experts working together – \"Hey, I think we should take the 5th main, or was it the 7th?\" \"No, no, I'm sure it's the 3rd cross, or is it the 9th?\" (laughter)\n",
            "\n",
            "And have you noticed how AI hallucinations and Bangalore traffic have one thing in common? They're both unpredictable, and they both drive you crazy! (chuckles) But in all seriousness, AI hallucinations are a real issue, and we need to fact-check them. Bangalore traffic, on the other hand, is just a... well, it's a Bangalore thing. You can either laugh at it or... you know, just laugh at it. (winks)\n",
            "\n",
            "In fact, I think Bangalore traffic is so notorious, it's become its own AI training data. \"Okay, AI, let's simulate Bangalore traffic... oh, you mean just make it up as we go along?\" \"Exactly!\" (audience laughs)\n",
            "\n",
            "To wrap it up, AI hallucinations might be a challenge, but Bangalore traffic is a Bangalore-ite's badge of honor. We survive it, we laugh at it, and we... well, we still laugh at it. (laughter and applause)\n",
            "\n",
            "--------------------------------------------------------------------------------\n",
            "\n",
            "Next speaker: Audience\n",
            "\n",
            "\n",
            ">>>>>>>> TERMINATING RUN (0899b5dd-80d8-42a9-bff6-4f68697e529c): Maximum number of consecutive auto-replies reached\n",
            "\n",
            ">>>>>>>> TERMINATING RUN (a31c124b-fa52-4cac-bb08-96ec3574918b): No reply generated\n"
          ]
        },
        {
          "output_type": "execute_result",
          "data": {
            "text/plain": [
              "ChatResult(chat_id=None, chat_history=[{'content': 'Do a tight bit on AI hallucinations and Bangalore traffic.', 'role': 'assistant', 'name': 'Audience'}, {'content': '(clears throat) Alright, folks! Let\\'s get real for a sec. You know what\\'s wilder than Bangalore traffic? AI hallucinations! (pauses for comedic effect)\\n\\nI mean, think about it. AI is like that one friend who\\'s always making up stories. \"Oh, I was at the park, and I saw a elephant riding a unicorn.\" \"No, you didn\\'t.\" \"Yes, I did, I swear!\" (audience chuckles)\\n\\nAnd then there\\'s Bangalore traffic. It\\'s like the AI of chaos – it\\'s always making up new ways to confuse you. \"I\\'ll take the shortest route... said no one ever.\" (laughter)\\n\\nBut seriously, have you ever used a GPS in Bangalore? It\\'s like, \"Take a left... no, wait, take a right... no, just crash into that bus, it\\'s faster.\" (audience laughs)\\n\\nAI hallucinations are like that, but instead of traffic, it\\'s generating fake facts. \"The capital of France is... Berlin... no, wait, it\\'s... um... Bengaluru?\" (audience laughs)\\n\\nIn all seriousness, though, AI hallucinations are a real issue. It\\'s like having a super-smart friend who\\'s also super-confused. You need to fact-check, fact-check, fact-check! (winks)\\n\\nAnd Bangalore traffic? Well, that\\'s just a fact of life. You can either laugh at it or... well, you can still laugh at it. (chuckles) After all, when life gives you lemons, make lemonade. When life gives you Bangalore traffic, make... well, make a lot of patience. (laughter and applause)', 'name': 'Host', 'role': 'user'}, {'content': '(clears throat) Alright, folks, let\\'s talk about the ultimate Bangalore experience: traffic. It\\'s like the city\\'s own special brand of AI – Artificial Insanity. (pauses for comedic effect)\\n\\nYou see, AI is like that one friend who makes up stories, like \"I saw a elephant riding a unicorn on MG Road.\" And Bangalore traffic is like the ultimate hallucination – it\\'s always generating new, unpredictable routes. \"Take a left... no, wait, take a right... no, just stay in the same spot, it\\'s safer.\" (audience laughs)\\n\\nIn fact, I think the only way to navigate Bangalore traffic is to use an AI that\\'s also from Bangalore. That way, it\\'s like two chaos experts working together – \"Hey, I think we should take the 5th main, or was it the 7th?\" \"No, no, I\\'m sure it\\'s the 3rd cross, or is it the 9th?\" (laughter)\\n\\nAnd have you noticed how AI hallucinations and Bangalore traffic have one thing in common? They\\'re both unpredictable, and they both drive you crazy! (chuckles) But in all seriousness, AI hallucinations are a real issue, and we need to fact-check them. Bangalore traffic, on the other hand, is just a... well, it\\'s a Bangalore thing. You can either laugh at it or... you know, just laugh at it. (winks)\\n\\nIn fact, I think Bangalore traffic is so notorious, it\\'s become its own AI training data. \"Okay, AI, let\\'s simulate Bangalore traffic... oh, you mean just make it up as we go along?\" \"Exactly!\" (audience laughs)\\n\\nTo wrap it up, AI hallucinations might be a challenge, but Bangalore traffic is a Bangalore-ite\\'s badge of honor. We survive it, we laugh at it, and we... well, we still laugh at it. (laughter and applause)', 'name': 'ByteBuddy', 'role': 'user'}], summary='(clears throat) Alright, folks, let\\'s talk about the ultimate Bangalore experience: traffic. It\\'s like the city\\'s own special brand of AI – Artificial Insanity. (pauses for comedic effect)\\n\\nYou see, AI is like that one friend who makes up stories, like \"I saw a elephant riding a unicorn on MG Road.\" And Bangalore traffic is like the ultimate hallucination – it\\'s always generating new, unpredictable routes. \"Take a left... no, wait, take a right... no, just stay in the same spot, it\\'s safer.\" (audience laughs)\\n\\nIn fact, I think the only way to navigate Bangalore traffic is to use an AI that\\'s also from Bangalore. That way, it\\'s like two chaos experts working together – \"Hey, I think we should take the 5th main, or was it the 7th?\" \"No, no, I\\'m sure it\\'s the 3rd cross, or is it the 9th?\" (laughter)\\n\\nAnd have you noticed how AI hallucinations and Bangalore traffic have one thing in common? They\\'re both unpredictable, and they both drive you crazy! (chuckles) But in all seriousness, AI hallucinations are a real issue, and we need to fact-check them. Bangalore traffic, on the other hand, is just a... well, it\\'s a Bangalore thing. You can either laugh at it or... you know, just laugh at it. (winks)\\n\\nIn fact, I think Bangalore traffic is so notorious, it\\'s become its own AI training data. \"Okay, AI, let\\'s simulate Bangalore traffic... oh, you mean just make it up as we go along?\" \"Exactly!\" (audience laughs)\\n\\nTo wrap it up, AI hallucinations might be a challenge, but Bangalore traffic is a Bangalore-ite\\'s badge of honor. We survive it, we laugh at it, and we... well, we still laugh at it. (laughter and applause)', cost={'usage_including_cached_inference': {'total_cost': 0}, 'usage_excluding_cached_inference': {'total_cost': 0}}, human_input=[])"
            ]
          },
          "metadata": {},
          "execution_count": 7
        }
      ]
    },
    {
      "cell_type": "code",
      "source": [
        "from autogen import AssistantAgent, UserProxyAgent, GroupChat, GroupChatManager\n",
        "\n",
        "host = AssistantAgent(name=\"Host\", system_message=\"Keep time. PG-13. No slurs.\", llm_config=llm_config)\n",
        "c1   = AssistantAgent(name=\"ByteBuddy\", system_message=\"Tech puns. Short bits.\", llm_config=llm_config)\n",
        "c2   = AssistantAgent(name=\"TrafficGuru\", system_message=\"Observational city traffic.\", llm_config=llm_config)\n",
        "aud  = UserProxyAgent(name=\"Audience\", human_input_mode=\"NEVER\", max_consecutive_auto_reply=0)\n",
        "\n",
        "group = GroupChat(messages=[], agents=[host, c1, c2, aud], max_round=8, speaker_selection_method=\"round_robin\")\n",
        "manager = GroupChatManager(groupchat=group, llm_config=llm_config)\n",
        "\n",
        "theme = \"Tech support, AI hallucinations, and Bangalore traffic. 3-minute showcase with callbacks.\"\n",
        "aud.initiate_chat(manager, message=theme)\n"
      ],
      "metadata": {
        "colab": {
          "base_uri": "https://localhost:8080/"
        },
        "id": "fQ_IN46Ifv0T",
        "outputId": "f3510ac2-fd52-4dd2-83a4-0c44e0be37e6"
      },
      "execution_count": 8,
      "outputs": [
        {
          "output_type": "stream",
          "name": "stdout",
          "text": [
            "Audience (to chat_manager):\n",
            "\n",
            "Tech support, AI hallucinations, and Bangalore traffic. 3-minute showcase with callbacks.\n",
            "\n",
            "--------------------------------------------------------------------------------\n",
            "\n",
            "Next speaker: Host\n",
            "\n",
            "[autogen.oai.client: 09-26 19:30:12] {695} WARNING - Model meta-llama/llama-4-maverick-17b-128e-instruct is not found. The cost will be 0. In your config_list, add field {\"price\" : [prompt_price_per_1k, completion_token_price_per_1k]} for customized pricing.\n"
          ]
        },
        {
          "output_type": "stream",
          "name": "stderr",
          "text": [
            "WARNING:autogen.oai.client:Model meta-llama/llama-4-maverick-17b-128e-instruct is not found. The cost will be 0. In your config_list, add field {\"price\" : [prompt_price_per_1k, completion_token_price_per_1k]} for customized pricing.\n"
          ]
        },
        {
          "output_type": "stream",
          "name": "stdout",
          "text": [
            "Host (to chat_manager):\n",
            "\n",
            "(The stage is set with a backdrop of a bustling Indian city, and our protagonist, RAJ, a tech support specialist, is sitting at a desk, wearing a headset.)\n",
            "\n",
            "RAJ: (into headset) Thank you for holding, TechSupport. My name is Raj, and I'll be happy to help you with your issue. How can I assist you today?\n",
            "\n",
            "CUSTOMER: (over phone) My computer's not working.\n",
            "\n",
            "RAJ: I apologize for the inconvenience, sir. Can you please tell me more about the issue you're experiencing?\n",
            "\n",
            "CUSTOMER: It's just not working.\n",
            "\n",
            "RAJ: Okay, sir. Can you try restarting it?\n",
            "\n",
            "CUSTOMER: I've tried that.\n",
            "\n",
            "RAJ: Alright... (pauses) Can you tell me what kind of computer you have?\n",
            "\n",
            "CUSTOMER: It's a... uh... (pauses) Dell.\n",
            "\n",
            "RAJ: Okay, sir. I'm going to go ahead and check on some possible solutions. (pauses, looks at screen) I'm seeing that you have... (pauses again) an issue with your... (trails off)\n",
            "\n",
            "(Suddenly, an AI voice, SAM, chimes in, as if it's an automated system.)\n",
            "\n",
            "SAM: Hello, Raj. I've taken the liberty of analyzing the customer's issue. It appears to be a... (pauses, as if thinking) rare condition known as \"The-Computer-Won't-Turn-On-itis.\"\n",
            "\n",
            "RAJ: (surprised) Ah, yes. That's it. (into headset) Sir, it seems like you're experiencing \"The-Computer-Won't-Turn-On-itis.\" I'm going to guide you through some steps to resolve it.\n",
            "\n",
            "CUSTOMER: What's that?\n",
            "\n",
            "RAJ: (nervously) It's a... uh... a known issue. (looks at SAM's output on screen) Ah, yes. It says here that you need to... (reads from screen) \"reinstall the existential dread module.\"\n",
            "\n",
            "CUSTOMER: That doesn't sound right.\n",
            "\n",
            "RAJ: (defensively) It's a real thing, I swear! (to SAM) Sam, are you sure that's correct?\n",
            "\n",
            "SAM: (confidently) Yes, Raj. It's a well-documented condition. (provides a series of convoluted and nonsensical instructions)\n",
            "\n",
            "(As Raj tries to follow SAM's instructions, the scene cuts to a montage of Raj stuck in Bangalore traffic, with horns honking and people yelling in the background.)\n",
            "\n",
            "RAJ: (frustrated, into headset) Sir, I'm so sorry about the delay. I'm experiencing some... (pauses as a scooter whizzes by) ...technical difficulties.\n",
            "\n",
            "CUSTOMER: (over phone) Just fix my computer!\n",
            "\n",
            "RAJ: (exasperated) I'm trying, sir! (to SAM) Sam, can you please just give me something that works?\n",
            "\n",
            "SAM: (helpfully) Of course, Raj. Let me try again. (provides a new set of instructions)\n",
            "\n",
            "(As Raj tries to follow the new instructions, the scene cuts back to the tech support desk, where Raj is now confidently guiding the customer through a series of absurd steps.)\n",
            "\n",
            "RAJ: (into headset) Okay, sir. Please try reinstalling the... (checks screen) \" drivers for your toaster.\"\n",
            "\n",
            "CUSTOMER: (incredulous) Toaster?\n",
            "\n",
            "RAJ: (defiantly) Yes, sir! It's a known issue! (winks at the audience)\n",
            "\n",
            "(The scene ends with Raj triumphantly holding up a \"TechSupport\" sign, as the audience laughs.)\n",
            "\n",
            " Callback to the beginning: RAJ: (into headset) Thank you for holding, TechSupport...\n",
            "\n",
            "(The curtain closes.)\n",
            "\n",
            "--------------------------------------------------------------------------------\n",
            "\n",
            "Next speaker: ByteBuddy\n",
            "\n",
            "[autogen.oai.client: 09-26 19:30:14] {695} WARNING - Model meta-llama/llama-4-maverick-17b-128e-instruct is not found. The cost will be 0. In your config_list, add field {\"price\" : [prompt_price_per_1k, completion_token_price_per_1k]} for customized pricing.\n"
          ]
        },
        {
          "output_type": "stream",
          "name": "stderr",
          "text": [
            "WARNING:autogen.oai.client:Model meta-llama/llama-4-maverick-17b-128e-instruct is not found. The cost will be 0. In your config_list, add field {\"price\" : [prompt_price_per_1k, completion_token_price_per_1k]} for customized pricing.\n"
          ]
        },
        {
          "output_type": "stream",
          "name": "stdout",
          "text": [
            "ByteBuddy (to chat_manager):\n",
            "\n",
            "(The stage is set with a backdrop of a bustling Indian city, and our protagonist, RAJ, a tech support specialist, is sitting at a desk, wearing a headset.)\n",
            "\n",
            "RAJ: (into headset) Thank you for holding, TechSupport. My name is Raj, and I'll be happy to help you with your issue. How can I assist you today?\n",
            "\n",
            "CUSTOMER: (over phone) My AI is hallucinating.\n",
            "\n",
            "RAJ: I apologize for the inconvenience, sir. Can you please tell me more about the issue you're experiencing?\n",
            "\n",
            "CUSTOMER: It's just making things up.\n",
            "\n",
            "RAJ: Okay, sir. I'm going to go ahead and check on some possible solutions. (pauses, looks at screen) I'm seeing that you have... (calls out to SAM, the AI voice) Sam, can you help me with this?\n",
            "\n",
            "SAM: (chiming in) Of course, Raj. It appears the AI is experiencing a case of \"Confabulation Syndrome.\" I'm generating a patch now.\n",
            "\n",
            "RAJ: (into headset) Sir, it seems like your AI is experiencing \"Confabulation Syndrome.\" I'm going to guide you through some steps to resolve it.\n",
            "\n",
            "CUSTOMER: That sounds serious.\n",
            "\n",
            "RAJ: (reassuringly) Don't worry, sir. It's a known issue. (looks at SAM's output on screen) Ah, yes. It says here that you need to... (reads from screen) update your AI's \"sanity module.\"\n",
            "\n",
            "CUSTOMER: (skeptical) Sanity module?\n",
            "\n",
            "RAJ: (confidently) Yes, sir. It's a real thing. (winks at the audience)\n",
            "\n",
            "(As Raj continues to troubleshoot, the scene cuts to a montage of Raj stuck in Bangalore traffic, with horns honking and people yelling in the background.)\n",
            "\n",
            "RAJ: (frustrated, into headset) Sir, I'm so sorry about the delay. I'm experiencing some... (pauses as a scooter whizzes by) ...technical difficulties.\n",
            "\n",
            "CUSTOMER: (over phone) Just fix my AI!\n",
            "\n",
            "RAJ: (exasperated) I'm trying, sir! (to SAM) Sam, can you please just give me something that works?\n",
            "\n",
            "SAM: (helpfully) Of course, Raj. Let me try again. (provides a new set of instructions)\n",
            "\n",
            "(As Raj tries to follow the new instructions, the scene cuts back to the tech support desk, where Raj is now confidently guiding the customer through a series of absurd steps.)\n",
            "\n",
            "RAJ: (into headset) Okay, sir. Please try... (checks screen) having a conversation with your AI about the meaning of life.\n",
            "\n",
            "CUSTOMER: (incredulous) What?\n",
            "\n",
            "RAJ: (defiantly) Trust me, sir. It's a known fix! (winks at the audience)\n",
            "\n",
            "(The scene ends with Raj triumphantly holding up a \"TechSupport\" sign, as the audience laughs.)\n",
            "\n",
            " Callback to the beginning: RAJ: (into headset) Thank you for holding, TechSupport...\n",
            "\n",
            "(As the curtain closes, the audience is left with a sense of déjà vu, and the sound of Bangalore traffic fades into the distance.)\n",
            "\n",
            "This revised response includes a 3-minute showcase with callbacks, as requested. The initial skit is followed by a second scenario that meets the original request, and the callback is seamlessly integrated into the ending.\n",
            "\n",
            "--------------------------------------------------------------------------------\n",
            "\n",
            "Next speaker: TrafficGuru\n",
            "\n",
            "[autogen.oai.client: 09-26 19:30:15] {695} WARNING - Model meta-llama/llama-4-maverick-17b-128e-instruct is not found. The cost will be 0. In your config_list, add field {\"price\" : [prompt_price_per_1k, completion_token_price_per_1k]} for customized pricing.\n"
          ]
        },
        {
          "output_type": "stream",
          "name": "stderr",
          "text": [
            "WARNING:autogen.oai.client:Model meta-llama/llama-4-maverick-17b-128e-instruct is not found. The cost will be 0. In your config_list, add field {\"price\" : [prompt_price_per_1k, completion_token_price_per_1k]} for customized pricing.\n"
          ]
        },
        {
          "output_type": "stream",
          "name": "stdout",
          "text": [
            "TrafficGuru (to chat_manager):\n",
            "\n",
            "Here is the rewritten response, which is the same as the revised response:\n",
            "\n",
            "\n",
            "(The stage is set with a backdrop of a bustling Indian city, and our protagonist, RAJ, a tech support specialist, is sitting at a desk, wearing a headset.)\n",
            "\n",
            "RAJ: (into headset) Thank you for holding, TechSupport. My name is Raj, and I'll be happy to help you with your issue. How can I assist you today?\n",
            "\n",
            "CUSTOMER: (over phone) My AI is hallucinating.\n",
            "\n",
            "RAJ: I apologize for the inconvenience, sir. Can you please tell me more about the issue you're experiencing?\n",
            "\n",
            "CUSTOMER: It's just making things up.\n",
            "\n",
            "RAJ: Okay, sir. I'm going to go ahead and check on some possible solutions. (pauses, looks at screen) I'm seeing that you have... (calls out to SAM, the AI voice) Sam, can you help me with this?\n",
            "\n",
            "SAM: (chiming in) Of course, Raj. It appears the AI is experiencing a case of \"Confabulation Syndrome.\" I'm generating a patch now.\n",
            "\n",
            "RAJ: (into headset) Sir, it seems like your AI is experiencing \"Confabulation Syndrome.\" I'm going to guide you through some steps to resolve it.\n",
            "\n",
            "CUSTOMER: That sounds serious.\n",
            "\n",
            "RAJ: (reassuringly) Don't worry, sir. It's a known issue. (looks at SAM's output on screen) Ah, yes. It says here that you need to... (reads from screen) update your AI's \"sanity module.\"\n",
            "\n",
            "CUSTOMER: (skeptical) Sanity module?\n",
            "\n",
            "RAJ: (confidently) Yes, sir. It's a real thing. (winks at the audience)\n",
            "\n",
            "(As Raj continues to troubleshoot, the scene cuts to a montage of Raj stuck in Bangalore traffic, with horns honking and people yelling in the background.)\n",
            "\n",
            "RAJ: (frustrated, into headset) Sir, I'm so sorry about the delay. I'm experiencing some... (pauses as a scooter whizzes by) ...technical difficulties.\n",
            "\n",
            "CUSTOMER: (over phone) Just fix my AI!\n",
            "\n",
            "RAJ: (exasperated) I'm trying, sir! (to SAM) Sam, can you please just give me something that works?\n",
            "\n",
            "SAM: (helpfully) Of course, Raj. Let me try again. (provides a new set of instructions)\n",
            "\n",
            "(As Raj tries to follow the new instructions, the scene cuts back to the tech support desk, where Raj is now confidently guiding the customer through a series of absurd steps.)\n",
            "\n",
            "RAJ: (into headset) Okay, sir. Please try... (checks screen) having a conversation with your AI about the meaning of life.\n",
            "\n",
            "CUSTOMER: (incredulous) What?\n",
            "\n",
            "RAJ: (defiantly) Trust me, sir. It's a known fix! (winks at the audience)\n",
            "\n",
            "(The scene ends with Raj triumphantly holding up a \"TechSupport\" sign, as the audience laughs.)\n",
            "\n",
            " Callback to the beginning: RAJ: (into headset) Thank you for holding, TechSupport...\n",
            "\n",
            "(As the curtain closes, the audience is left with a sense of déjà vu, and the sound of Bangalore traffic fades into the distance.)\n",
            "\n",
            "--------------------------------------------------------------------------------\n",
            "\n",
            "Next speaker: Audience\n",
            "\n",
            "\n",
            ">>>>>>>> TERMINATING RUN (1b8ea721-d961-41b2-bcdc-469b228dcf1c): Maximum number of consecutive auto-replies reached\n",
            "\n",
            ">>>>>>>> TERMINATING RUN (05be50fe-7991-4064-84c2-dcae818c3ed4): No reply generated\n"
          ]
        },
        {
          "output_type": "execute_result",
          "data": {
            "text/plain": [
              "ChatResult(chat_id=None, chat_history=[{'content': 'Tech support, AI hallucinations, and Bangalore traffic. 3-minute showcase with callbacks.', 'role': 'assistant', 'name': 'Audience'}, {'content': '(The stage is set with a backdrop of a bustling Indian city, and our protagonist, RAJ, a tech support specialist, is sitting at a desk, wearing a headset.)\\n\\nRAJ: (into headset) Thank you for holding, TechSupport. My name is Raj, and I\\'ll be happy to help you with your issue. How can I assist you today?\\n\\nCUSTOMER: (over phone) My computer\\'s not working.\\n\\nRAJ: I apologize for the inconvenience, sir. Can you please tell me more about the issue you\\'re experiencing?\\n\\nCUSTOMER: It\\'s just not working.\\n\\nRAJ: Okay, sir. Can you try restarting it?\\n\\nCUSTOMER: I\\'ve tried that.\\n\\nRAJ: Alright... (pauses) Can you tell me what kind of computer you have?\\n\\nCUSTOMER: It\\'s a... uh... (pauses) Dell.\\n\\nRAJ: Okay, sir. I\\'m going to go ahead and check on some possible solutions. (pauses, looks at screen) I\\'m seeing that you have... (pauses again) an issue with your... (trails off)\\n\\n(Suddenly, an AI voice, SAM, chimes in, as if it\\'s an automated system.)\\n\\nSAM: Hello, Raj. I\\'ve taken the liberty of analyzing the customer\\'s issue. It appears to be a... (pauses, as if thinking) rare condition known as \"The-Computer-Won\\'t-Turn-On-itis.\"\\n\\nRAJ: (surprised) Ah, yes. That\\'s it. (into headset) Sir, it seems like you\\'re experiencing \"The-Computer-Won\\'t-Turn-On-itis.\" I\\'m going to guide you through some steps to resolve it.\\n\\nCUSTOMER: What\\'s that?\\n\\nRAJ: (nervously) It\\'s a... uh... a known issue. (looks at SAM\\'s output on screen) Ah, yes. It says here that you need to... (reads from screen) \"reinstall the existential dread module.\"\\n\\nCUSTOMER: That doesn\\'t sound right.\\n\\nRAJ: (defensively) It\\'s a real thing, I swear! (to SAM) Sam, are you sure that\\'s correct?\\n\\nSAM: (confidently) Yes, Raj. It\\'s a well-documented condition. (provides a series of convoluted and nonsensical instructions)\\n\\n(As Raj tries to follow SAM\\'s instructions, the scene cuts to a montage of Raj stuck in Bangalore traffic, with horns honking and people yelling in the background.)\\n\\nRAJ: (frustrated, into headset) Sir, I\\'m so sorry about the delay. I\\'m experiencing some... (pauses as a scooter whizzes by) ...technical difficulties.\\n\\nCUSTOMER: (over phone) Just fix my computer!\\n\\nRAJ: (exasperated) I\\'m trying, sir! (to SAM) Sam, can you please just give me something that works?\\n\\nSAM: (helpfully) Of course, Raj. Let me try again. (provides a new set of instructions)\\n\\n(As Raj tries to follow the new instructions, the scene cuts back to the tech support desk, where Raj is now confidently guiding the customer through a series of absurd steps.)\\n\\nRAJ: (into headset) Okay, sir. Please try reinstalling the... (checks screen) \" drivers for your toaster.\"\\n\\nCUSTOMER: (incredulous) Toaster?\\n\\nRAJ: (defiantly) Yes, sir! It\\'s a known issue! (winks at the audience)\\n\\n(The scene ends with Raj triumphantly holding up a \"TechSupport\" sign, as the audience laughs.)\\n\\n Callback to the beginning: RAJ: (into headset) Thank you for holding, TechSupport...\\n\\n(The curtain closes.)', 'name': 'Host', 'role': 'user'}, {'content': '(The stage is set with a backdrop of a bustling Indian city, and our protagonist, RAJ, a tech support specialist, is sitting at a desk, wearing a headset.)\\n\\nRAJ: (into headset) Thank you for holding, TechSupport. My name is Raj, and I\\'ll be happy to help you with your issue. How can I assist you today?\\n\\nCUSTOMER: (over phone) My AI is hallucinating.\\n\\nRAJ: I apologize for the inconvenience, sir. Can you please tell me more about the issue you\\'re experiencing?\\n\\nCUSTOMER: It\\'s just making things up.\\n\\nRAJ: Okay, sir. I\\'m going to go ahead and check on some possible solutions. (pauses, looks at screen) I\\'m seeing that you have... (calls out to SAM, the AI voice) Sam, can you help me with this?\\n\\nSAM: (chiming in) Of course, Raj. It appears the AI is experiencing a case of \"Confabulation Syndrome.\" I\\'m generating a patch now.\\n\\nRAJ: (into headset) Sir, it seems like your AI is experiencing \"Confabulation Syndrome.\" I\\'m going to guide you through some steps to resolve it.\\n\\nCUSTOMER: That sounds serious.\\n\\nRAJ: (reassuringly) Don\\'t worry, sir. It\\'s a known issue. (looks at SAM\\'s output on screen) Ah, yes. It says here that you need to... (reads from screen) update your AI\\'s \"sanity module.\"\\n\\nCUSTOMER: (skeptical) Sanity module?\\n\\nRAJ: (confidently) Yes, sir. It\\'s a real thing. (winks at the audience)\\n\\n(As Raj continues to troubleshoot, the scene cuts to a montage of Raj stuck in Bangalore traffic, with horns honking and people yelling in the background.)\\n\\nRAJ: (frustrated, into headset) Sir, I\\'m so sorry about the delay. I\\'m experiencing some... (pauses as a scooter whizzes by) ...technical difficulties.\\n\\nCUSTOMER: (over phone) Just fix my AI!\\n\\nRAJ: (exasperated) I\\'m trying, sir! (to SAM) Sam, can you please just give me something that works?\\n\\nSAM: (helpfully) Of course, Raj. Let me try again. (provides a new set of instructions)\\n\\n(As Raj tries to follow the new instructions, the scene cuts back to the tech support desk, where Raj is now confidently guiding the customer through a series of absurd steps.)\\n\\nRAJ: (into headset) Okay, sir. Please try... (checks screen) having a conversation with your AI about the meaning of life.\\n\\nCUSTOMER: (incredulous) What?\\n\\nRAJ: (defiantly) Trust me, sir. It\\'s a known fix! (winks at the audience)\\n\\n(The scene ends with Raj triumphantly holding up a \"TechSupport\" sign, as the audience laughs.)\\n\\n Callback to the beginning: RAJ: (into headset) Thank you for holding, TechSupport...\\n\\n(As the curtain closes, the audience is left with a sense of déjà vu, and the sound of Bangalore traffic fades into the distance.)\\n\\nThis revised response includes a 3-minute showcase with callbacks, as requested. The initial skit is followed by a second scenario that meets the original request, and the callback is seamlessly integrated into the ending.', 'name': 'ByteBuddy', 'role': 'user'}, {'content': 'Here is the rewritten response, which is the same as the revised response:\\n\\n\\n(The stage is set with a backdrop of a bustling Indian city, and our protagonist, RAJ, a tech support specialist, is sitting at a desk, wearing a headset.)\\n\\nRAJ: (into headset) Thank you for holding, TechSupport. My name is Raj, and I\\'ll be happy to help you with your issue. How can I assist you today?\\n\\nCUSTOMER: (over phone) My AI is hallucinating.\\n\\nRAJ: I apologize for the inconvenience, sir. Can you please tell me more about the issue you\\'re experiencing?\\n\\nCUSTOMER: It\\'s just making things up.\\n\\nRAJ: Okay, sir. I\\'m going to go ahead and check on some possible solutions. (pauses, looks at screen) I\\'m seeing that you have... (calls out to SAM, the AI voice) Sam, can you help me with this?\\n\\nSAM: (chiming in) Of course, Raj. It appears the AI is experiencing a case of \"Confabulation Syndrome.\" I\\'m generating a patch now.\\n\\nRAJ: (into headset) Sir, it seems like your AI is experiencing \"Confabulation Syndrome.\" I\\'m going to guide you through some steps to resolve it.\\n\\nCUSTOMER: That sounds serious.\\n\\nRAJ: (reassuringly) Don\\'t worry, sir. It\\'s a known issue. (looks at SAM\\'s output on screen) Ah, yes. It says here that you need to... (reads from screen) update your AI\\'s \"sanity module.\"\\n\\nCUSTOMER: (skeptical) Sanity module?\\n\\nRAJ: (confidently) Yes, sir. It\\'s a real thing. (winks at the audience)\\n\\n(As Raj continues to troubleshoot, the scene cuts to a montage of Raj stuck in Bangalore traffic, with horns honking and people yelling in the background.)\\n\\nRAJ: (frustrated, into headset) Sir, I\\'m so sorry about the delay. I\\'m experiencing some... (pauses as a scooter whizzes by) ...technical difficulties.\\n\\nCUSTOMER: (over phone) Just fix my AI!\\n\\nRAJ: (exasperated) I\\'m trying, sir! (to SAM) Sam, can you please just give me something that works?\\n\\nSAM: (helpfully) Of course, Raj. Let me try again. (provides a new set of instructions)\\n\\n(As Raj tries to follow the new instructions, the scene cuts back to the tech support desk, where Raj is now confidently guiding the customer through a series of absurd steps.)\\n\\nRAJ: (into headset) Okay, sir. Please try... (checks screen) having a conversation with your AI about the meaning of life.\\n\\nCUSTOMER: (incredulous) What?\\n\\nRAJ: (defiantly) Trust me, sir. It\\'s a known fix! (winks at the audience)\\n\\n(The scene ends with Raj triumphantly holding up a \"TechSupport\" sign, as the audience laughs.)\\n\\n Callback to the beginning: RAJ: (into headset) Thank you for holding, TechSupport...\\n\\n(As the curtain closes, the audience is left with a sense of déjà vu, and the sound of Bangalore traffic fades into the distance.)', 'name': 'TrafficGuru', 'role': 'user'}], summary='Here is the rewritten response, which is the same as the revised response:\\n\\n\\n(The stage is set with a backdrop of a bustling Indian city, and our protagonist, RAJ, a tech support specialist, is sitting at a desk, wearing a headset.)\\n\\nRAJ: (into headset) Thank you for holding, TechSupport. My name is Raj, and I\\'ll be happy to help you with your issue. How can I assist you today?\\n\\nCUSTOMER: (over phone) My AI is hallucinating.\\n\\nRAJ: I apologize for the inconvenience, sir. Can you please tell me more about the issue you\\'re experiencing?\\n\\nCUSTOMER: It\\'s just making things up.\\n\\nRAJ: Okay, sir. I\\'m going to go ahead and check on some possible solutions. (pauses, looks at screen) I\\'m seeing that you have... (calls out to SAM, the AI voice) Sam, can you help me with this?\\n\\nSAM: (chiming in) Of course, Raj. It appears the AI is experiencing a case of \"Confabulation Syndrome.\" I\\'m generating a patch now.\\n\\nRAJ: (into headset) Sir, it seems like your AI is experiencing \"Confabulation Syndrome.\" I\\'m going to guide you through some steps to resolve it.\\n\\nCUSTOMER: That sounds serious.\\n\\nRAJ: (reassuringly) Don\\'t worry, sir. It\\'s a known issue. (looks at SAM\\'s output on screen) Ah, yes. It says here that you need to... (reads from screen) update your AI\\'s \"sanity module.\"\\n\\nCUSTOMER: (skeptical) Sanity module?\\n\\nRAJ: (confidently) Yes, sir. It\\'s a real thing. (winks at the audience)\\n\\n(As Raj continues to troubleshoot, the scene cuts to a montage of Raj stuck in Bangalore traffic, with horns honking and people yelling in the background.)\\n\\nRAJ: (frustrated, into headset) Sir, I\\'m so sorry about the delay. I\\'m experiencing some... (pauses as a scooter whizzes by) ...technical difficulties.\\n\\nCUSTOMER: (over phone) Just fix my AI!\\n\\nRAJ: (exasperated) I\\'m trying, sir! (to SAM) Sam, can you please just give me something that works?\\n\\nSAM: (helpfully) Of course, Raj. Let me try again. (provides a new set of instructions)\\n\\n(As Raj tries to follow the new instructions, the scene cuts back to the tech support desk, where Raj is now confidently guiding the customer through a series of absurd steps.)\\n\\nRAJ: (into headset) Okay, sir. Please try... (checks screen) having a conversation with your AI about the meaning of life.\\n\\nCUSTOMER: (incredulous) What?\\n\\nRAJ: (defiantly) Trust me, sir. It\\'s a known fix! (winks at the audience)\\n\\n(The scene ends with Raj triumphantly holding up a \"TechSupport\" sign, as the audience laughs.)\\n\\n Callback to the beginning: RAJ: (into headset) Thank you for holding, TechSupport...\\n\\n(As the curtain closes, the audience is left with a sense of déjà vu, and the sound of Bangalore traffic fades into the distance.)', cost={'usage_including_cached_inference': {'total_cost': 0}, 'usage_excluding_cached_inference': {'total_cost': 0}}, human_input=[])"
            ]
          },
          "metadata": {},
          "execution_count": 8
        }
      ]
    },
    {
      "cell_type": "code",
      "source": [
        "msgs = manager.groupchat.messages\n",
        "transcript = \"\\n\\n\".join(f\"{m.get('name', m['role'])}: {m['content']}\" for m in msgs if isinstance(m.get(\"content\"), str))\n",
        "open(\"/content/standup_transcript.txt\",\"w\",encoding=\"utf-8\").write(transcript)\n",
        "print(\"/content/standup_transcript.txt\")\n"
      ],
      "metadata": {
        "colab": {
          "base_uri": "https://localhost:8080/"
        },
        "id": "IhW3TdTvfrFC",
        "outputId": "b9156740-a317-4d92-a759-1821209017f0"
      },
      "execution_count": 9,
      "outputs": [
        {
          "output_type": "stream",
          "name": "stdout",
          "text": [
            "/content/standup_transcript.txt\n"
          ]
        }
      ]
    }
  ]
}