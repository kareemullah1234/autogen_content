{
 "cells": [
  {
   "cell_type": "code",
   "execution_count": 5,
   "id": "f228ae7a-8326-413e-9be7-4e2b396d9a79",
   "metadata": {},
   "outputs": [
    {
     "name": "stdout",
     "output_type": "stream",
     "text": [
      "Defaulting to user installation because normal site-packages is not writeable\n",
      "Collecting autogen_agentchat\n",
      "  Downloading autogen_agentchat-0.7.4-py3-none-any.whl.metadata (2.5 kB)\n",
      "Requirement already satisfied: autogen-core==0.7.4 in c:\\users\\lenovo\\appdata\\roaming\\python\\python310\\site-packages (from autogen_agentchat) (0.7.4)\n",
      "Requirement already satisfied: jsonref~=1.1.0 in c:\\users\\lenovo\\appdata\\roaming\\python\\python310\\site-packages (from autogen-core==0.7.4->autogen_agentchat) (1.1.0)\n",
      "Requirement already satisfied: opentelemetry-api>=1.34.1 in c:\\users\\lenovo\\appdata\\roaming\\python\\python310\\site-packages (from autogen-core==0.7.4->autogen_agentchat) (1.37.0)\n",
      "Requirement already satisfied: pillow>=11.0.0 in c:\\users\\lenovo\\appdata\\roaming\\python\\python310\\site-packages (from autogen-core==0.7.4->autogen_agentchat) (11.1.0)\n",
      "Requirement already satisfied: protobuf~=5.29.3 in c:\\users\\lenovo\\appdata\\roaming\\python\\python310\\site-packages (from autogen-core==0.7.4->autogen_agentchat) (5.29.5)\n",
      "Requirement already satisfied: pydantic<3.0.0,>=2.10.0 in c:\\users\\lenovo\\appdata\\roaming\\python\\python310\\site-packages (from autogen-core==0.7.4->autogen_agentchat) (2.11.7)\n",
      "Requirement already satisfied: typing-extensions>=4.0.0 in c:\\users\\lenovo\\appdata\\roaming\\python\\python310\\site-packages (from autogen-core==0.7.4->autogen_agentchat) (4.14.1)\n",
      "Requirement already satisfied: importlib-metadata<8.8.0,>=6.0 in c:\\users\\lenovo\\appdata\\roaming\\python\\python310\\site-packages (from opentelemetry-api>=1.34.1->autogen-core==0.7.4->autogen_agentchat) (8.6.1)\n",
      "Requirement already satisfied: annotated-types>=0.6.0 in c:\\users\\lenovo\\appdata\\roaming\\python\\python310\\site-packages (from pydantic<3.0.0,>=2.10.0->autogen-core==0.7.4->autogen_agentchat) (0.7.0)\n",
      "Requirement already satisfied: pydantic-core==2.33.2 in c:\\users\\lenovo\\appdata\\roaming\\python\\python310\\site-packages (from pydantic<3.0.0,>=2.10.0->autogen-core==0.7.4->autogen_agentchat) (2.33.2)\n",
      "Requirement already satisfied: typing-inspection>=0.4.0 in c:\\users\\lenovo\\appdata\\roaming\\python\\python310\\site-packages (from pydantic<3.0.0,>=2.10.0->autogen-core==0.7.4->autogen_agentchat) (0.4.1)\n",
      "Requirement already satisfied: zipp>=3.20 in c:\\users\\lenovo\\appdata\\roaming\\python\\python310\\site-packages (from importlib-metadata<8.8.0,>=6.0->opentelemetry-api>=1.34.1->autogen-core==0.7.4->autogen_agentchat) (3.21.0)\n",
      "Downloading autogen_agentchat-0.7.4-py3-none-any.whl (119 kB)\n",
      "Installing collected packages: autogen_agentchat\n",
      "Successfully installed autogen_agentchat-0.7.4\n",
      "Note: you may need to restart the kernel to use updated packages.\n"
     ]
    },
    {
     "name": "stderr",
     "output_type": "stream",
     "text": [
      "\n",
      "[notice] A new release of pip is available: 25.0.1 -> 25.2\n",
      "[notice] To update, run: C:\\Program Files\\Python310\\python.exe -m pip install --upgrade pip\n"
     ]
    }
   ],
   "source": [
    "pip install autogen_agentchat"
   ]
  },
  {
   "cell_type": "code",
   "execution_count": 7,
   "id": "3d817dc2-71e6-4cb9-86c4-701338059c3b",
   "metadata": {},
   "outputs": [
    {
     "name": "stdout",
     "output_type": "stream",
     "text": [
      "Name: autogen-agentchat\n",
      "Version: 0.7.4\n",
      "Summary: AutoGen agents and teams library\n",
      "Home-page: \n",
      "Author: \n",
      "Author-email: \n",
      "License: MIT License\n",
      "        \n",
      "            Copyright (c) Microsoft Corporation.\n",
      "        \n",
      "            Permission is hereby granted, free of charge, to any person obtaining a copy\n",
      "            of this software and associated documentation files (the \"Software\"), to deal\n",
      "            in the Software without restriction, including without limitation the rights\n",
      "            to use, copy, modify, merge, publish, distribute, sublicense, and/or sell\n",
      "            copies of the Software, and to permit persons to whom the Software is\n",
      "            furnished to do so, subject to the following conditions:\n",
      "        \n",
      "            The above copyright notice and this permission notice shall be included in all\n",
      "            copies or substantial portions of the Software.\n",
      "        \n",
      "            THE SOFTWARE IS PROVIDED \"AS IS\", WITHOUT WARRANTY OF ANY KIND, EXPRESS OR\n",
      "            IMPLIED, INCLUDING BUT NOT LIMITED TO THE WARRANTIES OF MERCHANTABILITY,\n",
      "            FITNESS FOR A PARTICULAR PURPOSE AND NONINFRINGEMENT. IN NO EVENT SHALL THE\n",
      "            AUTHORS OR COPYRIGHT HOLDERS BE LIABLE FOR ANY CLAIM, DAMAGES OR OTHER\n",
      "            LIABILITY, WHETHER IN AN ACTION OF CONTRACT, TORT OR OTHERWISE, ARISING FROM,\n",
      "            OUT OF OR IN CONNECTION WITH THE SOFTWARE OR THE USE OR OTHER DEALINGS IN THE\n",
      "            SOFTWARE\n",
      "Location: c:\\users\\lenovo\\appdata\\roaming\\python\\python310\\site-packages\n",
      "Requires: autogen-core\n",
      "Required-by: \n",
      "Note: you may need to restart the kernel to use updated packages.\n"
     ]
    }
   ],
   "source": [
    "pip show autogen_agentchat"
   ]
  },
  {
   "cell_type": "code",
   "execution_count": 1,
   "id": "7dd3961a-b2bc-40a7-b4b7-d3823c8cd667",
   "metadata": {},
   "outputs": [
    {
     "name": "stdout",
     "output_type": "stream",
     "text": [
      "Defaulting to user installation because normal site-packages is not writeable\n",
      "Collecting autogen\n",
      "  Downloading autogen-0.9.9-py3-none-any.whl.metadata (24 kB)\n",
      "Collecting ag2==0.9.9 (from autogen)\n",
      "  Downloading ag2-0.9.9-py3-none-any.whl.metadata (36 kB)\n",
      "Requirement already satisfied: anyio<5.0.0,>=3.0.0 in c:\\users\\lenovo\\appdata\\roaming\\python\\python310\\site-packages (from ag2==0.9.9->autogen) (4.9.0)\n",
      "Collecting asyncer==0.0.8 (from ag2==0.9.9->autogen)\n",
      "  Downloading asyncer-0.0.8-py3-none-any.whl.metadata (6.7 kB)\n",
      "Collecting diskcache (from ag2==0.9.9->autogen)\n",
      "  Downloading diskcache-5.6.3-py3-none-any.whl.metadata (20 kB)\n",
      "Collecting docker (from ag2==0.9.9->autogen)\n",
      "  Downloading docker-7.1.0-py3-none-any.whl.metadata (3.8 kB)\n",
      "Requirement already satisfied: httpx<1,>=0.28.1 in c:\\users\\lenovo\\appdata\\roaming\\python\\python310\\site-packages (from ag2==0.9.9->autogen) (0.28.1)\n",
      "Requirement already satisfied: packaging in c:\\users\\lenovo\\appdata\\roaming\\python\\python310\\site-packages (from ag2==0.9.9->autogen) (24.2)\n",
      "Requirement already satisfied: pydantic<3,>=2.6.1 in c:\\users\\lenovo\\appdata\\roaming\\python\\python310\\site-packages (from ag2==0.9.9->autogen) (2.11.7)\n",
      "Requirement already satisfied: python-dotenv in c:\\users\\lenovo\\appdata\\roaming\\python\\python310\\site-packages (from ag2==0.9.9->autogen) (1.1.1)\n",
      "Collecting termcolor (from ag2==0.9.9->autogen)\n",
      "  Downloading termcolor-3.1.0-py3-none-any.whl.metadata (6.4 kB)\n",
      "Requirement already satisfied: tiktoken in c:\\users\\lenovo\\appdata\\roaming\\python\\python310\\site-packages (from ag2==0.9.9->autogen) (0.11.0)\n",
      "Requirement already satisfied: exceptiongroup>=1.0.2 in c:\\users\\lenovo\\appdata\\roaming\\python\\python310\\site-packages (from anyio<5.0.0,>=3.0.0->ag2==0.9.9->autogen) (1.3.0)\n",
      "Requirement already satisfied: idna>=2.8 in c:\\users\\lenovo\\appdata\\roaming\\python\\python310\\site-packages (from anyio<5.0.0,>=3.0.0->ag2==0.9.9->autogen) (3.10)\n",
      "Requirement already satisfied: sniffio>=1.1 in c:\\users\\lenovo\\appdata\\roaming\\python\\python310\\site-packages (from anyio<5.0.0,>=3.0.0->ag2==0.9.9->autogen) (1.3.1)\n",
      "Requirement already satisfied: typing_extensions>=4.5 in c:\\users\\lenovo\\appdata\\roaming\\python\\python310\\site-packages (from anyio<5.0.0,>=3.0.0->ag2==0.9.9->autogen) (4.14.1)\n",
      "Requirement already satisfied: certifi in c:\\users\\lenovo\\appdata\\roaming\\python\\python310\\site-packages (from httpx<1,>=0.28.1->ag2==0.9.9->autogen) (2025.7.14)\n",
      "Requirement already satisfied: httpcore==1.* in c:\\users\\lenovo\\appdata\\roaming\\python\\python310\\site-packages (from httpx<1,>=0.28.1->ag2==0.9.9->autogen) (1.0.9)\n",
      "Requirement already satisfied: h11>=0.16 in c:\\users\\lenovo\\appdata\\roaming\\python\\python310\\site-packages (from httpcore==1.*->httpx<1,>=0.28.1->ag2==0.9.9->autogen) (0.16.0)\n",
      "Requirement already satisfied: annotated-types>=0.6.0 in c:\\users\\lenovo\\appdata\\roaming\\python\\python310\\site-packages (from pydantic<3,>=2.6.1->ag2==0.9.9->autogen) (0.7.0)\n",
      "Requirement already satisfied: pydantic-core==2.33.2 in c:\\users\\lenovo\\appdata\\roaming\\python\\python310\\site-packages (from pydantic<3,>=2.6.1->ag2==0.9.9->autogen) (2.33.2)\n",
      "Requirement already satisfied: typing-inspection>=0.4.0 in c:\\users\\lenovo\\appdata\\roaming\\python\\python310\\site-packages (from pydantic<3,>=2.6.1->ag2==0.9.9->autogen) (0.4.1)\n",
      "Requirement already satisfied: pywin32>=304 in c:\\users\\lenovo\\appdata\\roaming\\python\\python310\\site-packages (from docker->ag2==0.9.9->autogen) (311)\n",
      "Requirement already satisfied: requests>=2.26.0 in c:\\users\\lenovo\\appdata\\roaming\\python\\python310\\site-packages (from docker->ag2==0.9.9->autogen) (2.32.3)\n",
      "Requirement already satisfied: urllib3>=1.26.0 in c:\\users\\lenovo\\appdata\\roaming\\python\\python310\\site-packages (from docker->ag2==0.9.9->autogen) (2.3.0)\n",
      "Requirement already satisfied: regex>=2022.1.18 in c:\\users\\lenovo\\appdata\\roaming\\python\\python310\\site-packages (from tiktoken->ag2==0.9.9->autogen) (2024.11.6)\n",
      "Requirement already satisfied: charset-normalizer<4,>=2 in c:\\users\\lenovo\\appdata\\roaming\\python\\python310\\site-packages (from requests>=2.26.0->docker->ag2==0.9.9->autogen) (3.4.1)\n",
      "Downloading autogen-0.9.9-py3-none-any.whl (13 kB)\n",
      "Downloading ag2-0.9.9-py3-none-any.whl (833 kB)\n",
      "   ---------------------------------------- 0.0/834.0 kB ? eta -:--:--\n",
      "   ------------------------------------- -- 786.4/834.0 kB 8.5 MB/s eta 0:00:01\n",
      "   ------------------------------------- -- 786.4/834.0 kB 8.5 MB/s eta 0:00:01\n",
      "   ---------------------------------------- 834.0/834.0 kB 1.4 MB/s eta 0:00:00\n",
      "Downloading asyncer-0.0.8-py3-none-any.whl (9.2 kB)\n",
      "Downloading diskcache-5.6.3-py3-none-any.whl (45 kB)\n",
      "Downloading docker-7.1.0-py3-none-any.whl (147 kB)\n",
      "Downloading termcolor-3.1.0-py3-none-any.whl (7.7 kB)\n",
      "Installing collected packages: termcolor, diskcache, docker, asyncer, ag2, autogen\n",
      "Successfully installed ag2-0.9.9 asyncer-0.0.8 autogen-0.9.9 diskcache-5.6.3 docker-7.1.0 termcolor-3.1.0\n",
      "Note: you may need to restart the kernel to use updated packages.\n"
     ]
    },
    {
     "name": "stderr",
     "output_type": "stream",
     "text": [
      "\n",
      "[notice] A new release of pip is available: 25.0.1 -> 25.2\n",
      "[notice] To update, run: C:\\Program Files\\Python310\\python.exe -m pip install --upgrade pip\n"
     ]
    }
   ],
   "source": [
    "pip install autogen\n"
   ]
  },
  {
   "cell_type": "code",
   "execution_count": 2,
   "id": "d4a81df5-ff24-4822-b09c-0fcd1b3b1a57",
   "metadata": {},
   "outputs": [
    {
     "name": "stdout",
     "output_type": "stream",
     "text": [
      "Name: autogen\n",
      "Version: 0.9.9\n",
      "Summary: Alias package for ag2\n",
      "Home-page: https://github.com/ag2ai/ag2\n",
      "Author: Chi Wang & Qingyun Wu\n",
      "Author-email: support@ag2.ai\n",
      "License: Apache Software License 2.0\n",
      "Location: c:\\users\\lenovo\\appdata\\roaming\\python\\python310\\site-packages\n",
      "Requires: ag2\n",
      "Required-by: \n",
      "Note: you may need to restart the kernel to use updated packages.\n"
     ]
    }
   ],
   "source": [
    "pip show autogen"
   ]
  },
  {
   "cell_type": "code",
   "execution_count": 1,
   "id": "8ea97e4b-b41e-4556-8944-72abd56b9e65",
   "metadata": {
    "collapsed": true,
    "jupyter": {
     "outputs_hidden": true
    }
   },
   "outputs": [
    {
     "name": "stdout",
     "output_type": "stream",
     "text": [
      "Defaulting to user installation because normal site-packages is not writeable\n",
      "Collecting autogen-ext[ollama]\n",
      "  Downloading autogen_ext-0.7.4-py3-none-any.whl.metadata (7.3 kB)\n",
      "Collecting autogen-core==0.7.4 (from autogen-ext[ollama])\n",
      "  Downloading autogen_core-0.7.4-py3-none-any.whl.metadata (2.3 kB)\n",
      "Collecting ollama>=0.4.7 (from autogen-ext[ollama])\n",
      "  Downloading ollama-0.6.0-py3-none-any.whl.metadata (4.3 kB)\n",
      "Collecting tiktoken>=0.8.0 (from autogen-ext[ollama])\n",
      "  Downloading tiktoken-0.11.0-cp310-cp310-win_amd64.whl.metadata (6.9 kB)\n",
      "Collecting jsonref~=1.1.0 (from autogen-core==0.7.4->autogen-ext[ollama])\n",
      "  Downloading jsonref-1.1.0-py3-none-any.whl.metadata (2.7 kB)\n",
      "Collecting opentelemetry-api>=1.34.1 (from autogen-core==0.7.4->autogen-ext[ollama])\n",
      "  Downloading opentelemetry_api-1.37.0-py3-none-any.whl.metadata (1.5 kB)\n",
      "Requirement already satisfied: pillow>=11.0.0 in c:\\users\\lenovo\\appdata\\roaming\\python\\python310\\site-packages (from autogen-core==0.7.4->autogen-ext[ollama]) (11.1.0)\n",
      "Collecting protobuf~=5.29.3 (from autogen-core==0.7.4->autogen-ext[ollama])\n",
      "  Downloading protobuf-5.29.5-cp310-abi3-win_amd64.whl.metadata (592 bytes)\n",
      "Requirement already satisfied: pydantic<3.0.0,>=2.10.0 in c:\\users\\lenovo\\appdata\\roaming\\python\\python310\\site-packages (from autogen-core==0.7.4->autogen-ext[ollama]) (2.11.7)\n",
      "Requirement already satisfied: typing-extensions>=4.0.0 in c:\\users\\lenovo\\appdata\\roaming\\python\\python310\\site-packages (from autogen-core==0.7.4->autogen-ext[ollama]) (4.14.1)\n",
      "Requirement already satisfied: httpx>=0.27 in c:\\users\\lenovo\\appdata\\roaming\\python\\python310\\site-packages (from ollama>=0.4.7->autogen-ext[ollama]) (0.28.1)\n",
      "Requirement already satisfied: regex>=2022.1.18 in c:\\users\\lenovo\\appdata\\roaming\\python\\python310\\site-packages (from tiktoken>=0.8.0->autogen-ext[ollama]) (2024.11.6)\n",
      "Requirement already satisfied: requests>=2.26.0 in c:\\users\\lenovo\\appdata\\roaming\\python\\python310\\site-packages (from tiktoken>=0.8.0->autogen-ext[ollama]) (2.32.3)\n",
      "Requirement already satisfied: anyio in c:\\users\\lenovo\\appdata\\roaming\\python\\python310\\site-packages (from httpx>=0.27->ollama>=0.4.7->autogen-ext[ollama]) (4.9.0)\n",
      "Requirement already satisfied: certifi in c:\\users\\lenovo\\appdata\\roaming\\python\\python310\\site-packages (from httpx>=0.27->ollama>=0.4.7->autogen-ext[ollama]) (2025.7.14)\n",
      "Requirement already satisfied: httpcore==1.* in c:\\users\\lenovo\\appdata\\roaming\\python\\python310\\site-packages (from httpx>=0.27->ollama>=0.4.7->autogen-ext[ollama]) (1.0.9)\n",
      "Requirement already satisfied: idna in c:\\users\\lenovo\\appdata\\roaming\\python\\python310\\site-packages (from httpx>=0.27->ollama>=0.4.7->autogen-ext[ollama]) (3.10)\n",
      "Requirement already satisfied: h11>=0.16 in c:\\users\\lenovo\\appdata\\roaming\\python\\python310\\site-packages (from httpcore==1.*->httpx>=0.27->ollama>=0.4.7->autogen-ext[ollama]) (0.16.0)\n",
      "Requirement already satisfied: importlib-metadata<8.8.0,>=6.0 in c:\\users\\lenovo\\appdata\\roaming\\python\\python310\\site-packages (from opentelemetry-api>=1.34.1->autogen-core==0.7.4->autogen-ext[ollama]) (8.6.1)\n",
      "Requirement already satisfied: annotated-types>=0.6.0 in c:\\users\\lenovo\\appdata\\roaming\\python\\python310\\site-packages (from pydantic<3.0.0,>=2.10.0->autogen-core==0.7.4->autogen-ext[ollama]) (0.7.0)\n",
      "Requirement already satisfied: pydantic-core==2.33.2 in c:\\users\\lenovo\\appdata\\roaming\\python\\python310\\site-packages (from pydantic<3.0.0,>=2.10.0->autogen-core==0.7.4->autogen-ext[ollama]) (2.33.2)\n",
      "Requirement already satisfied: typing-inspection>=0.4.0 in c:\\users\\lenovo\\appdata\\roaming\\python\\python310\\site-packages (from pydantic<3.0.0,>=2.10.0->autogen-core==0.7.4->autogen-ext[ollama]) (0.4.1)\n",
      "Requirement already satisfied: charset-normalizer<4,>=2 in c:\\users\\lenovo\\appdata\\roaming\\python\\python310\\site-packages (from requests>=2.26.0->tiktoken>=0.8.0->autogen-ext[ollama]) (3.4.1)\n",
      "Requirement already satisfied: urllib3<3,>=1.21.1 in c:\\users\\lenovo\\appdata\\roaming\\python\\python310\\site-packages (from requests>=2.26.0->tiktoken>=0.8.0->autogen-ext[ollama]) (2.3.0)\n",
      "Requirement already satisfied: zipp>=3.20 in c:\\users\\lenovo\\appdata\\roaming\\python\\python310\\site-packages (from importlib-metadata<8.8.0,>=6.0->opentelemetry-api>=1.34.1->autogen-core==0.7.4->autogen-ext[ollama]) (3.21.0)\n",
      "Requirement already satisfied: exceptiongroup>=1.0.2 in c:\\users\\lenovo\\appdata\\roaming\\python\\python310\\site-packages (from anyio->httpx>=0.27->ollama>=0.4.7->autogen-ext[ollama]) (1.3.0)\n",
      "Requirement already satisfied: sniffio>=1.1 in c:\\users\\lenovo\\appdata\\roaming\\python\\python310\\site-packages (from anyio->httpx>=0.27->ollama>=0.4.7->autogen-ext[ollama]) (1.3.1)\n",
      "Downloading autogen_core-0.7.4-py3-none-any.whl (101 kB)\n",
      "Downloading ollama-0.6.0-py3-none-any.whl (14 kB)\n",
      "Downloading tiktoken-0.11.0-cp310-cp310-win_amd64.whl (884 kB)\n",
      "   ---------------------------------------- 0.0/884.2 kB ? eta -:--:--\n",
      "   ---------------------------------------- 884.2/884.2 kB 8.0 MB/s eta 0:00:00\n",
      "Downloading autogen_ext-0.7.4-py3-none-any.whl (328 kB)\n",
      "Downloading jsonref-1.1.0-py3-none-any.whl (9.4 kB)\n",
      "Downloading opentelemetry_api-1.37.0-py3-none-any.whl (65 kB)\n",
      "Downloading protobuf-5.29.5-cp310-abi3-win_amd64.whl (434 kB)\n",
      "Installing collected packages: protobuf, jsonref, tiktoken, opentelemetry-api, autogen-core, ollama, autogen-ext\n",
      "  Attempting uninstall: protobuf\n",
      "    Found existing installation: protobuf 3.20.3\n",
      "    Uninstalling protobuf-3.20.3:\n",
      "      Successfully uninstalled protobuf-3.20.3\n",
      "Successfully installed autogen-core-0.7.4 autogen-ext-0.7.4 jsonref-1.1.0 ollama-0.6.0 opentelemetry-api-1.37.0 protobuf-5.29.5 tiktoken-0.11.0\n",
      "Note: you may need to restart the kernel to use updated packages.\n"
     ]
    },
    {
     "name": "stderr",
     "output_type": "stream",
     "text": [
      "ERROR: pip's dependency resolver does not currently take into account all the packages that are installed. This behaviour is the source of the following dependency conflicts.\n",
      "streamlit 1.10.0 requires protobuf<4,>=3.12, but you have protobuf 5.29.5 which is incompatible.\n",
      "\n",
      "[notice] A new release of pip is available: 25.0.1 -> 25.2\n",
      "[notice] To update, run: C:\\Program Files\\Python310\\python.exe -m pip install --upgrade pip\n"
     ]
    }
   ],
   "source": [
    "pip install -U \"autogen-ext[ollama]\"\n"
   ]
  },
  {
   "cell_type": "code",
   "execution_count": 2,
   "id": "44f7621e-04ce-41ff-b7a2-f832479548b9",
   "metadata": {},
   "outputs": [
    {
     "name": "stdout",
     "output_type": "stream",
     "text": [
      "finish_reason='stop' content='The capital of France is **Paris**. 🇫🇷 \\n' usage=RequestUsage(prompt_tokens=16, completion_tokens=14) cached=False logprobs=None thought=None\n"
     ]
    }
   ],
   "source": [
    "from autogen_core.models import UserMessage\n",
    "from autogen_ext.models.ollama import OllamaChatCompletionClient\n",
    "\n",
    "# Assuming your Ollama server is running locally on port 11434.\n",
    "ollama_model_client = OllamaChatCompletionClient(model=\"gemma2:2b\")\n",
    "\n",
    "response = await ollama_model_client.create([UserMessage(content=\"What is the capital of France?\", source=\"user\")])\n",
    "print(response)\n",
    "await ollama_model_client.close()\n"
   ]
  },
  {
   "cell_type": "code",
   "execution_count": 7,
   "id": "164babe1-ea82-4bbb-995a-f15ee7ee2d07",
   "metadata": {},
   "outputs": [
    {
     "name": "stdout",
     "output_type": "stream",
     "text": [
      "RAW RESPONSE: finish_reason='stop' content='The capital of France is **Paris**. 🇫🇷 \\n' usage=RequestUsage(prompt_tokens=16, completion_tokens=14) cached=False logprobs=None thought=None\n"
     ]
    }
   ],
   "source": [
    "# Put your async test() here (same as you already have)\n",
    "import traceback\n",
    "from autogen_core.models import UserMessage\n",
    "from autogen_ext.models.ollama import OllamaChatCompletionClient\n",
    "\n",
    "async def test():\n",
    "    try:\n",
    "        client = OllamaChatCompletionClient(model=\"gemma2:2b\")\n",
    "        resp = await client.create([UserMessage(content=\"What is the capital of France?\", source=\"user\")])\n",
    "        print(\"RAW RESPONSE:\", resp)\n",
    "        await client.close()\n",
    "    except Exception:\n",
    "        traceback.print_exc()\n",
    "\n",
    "# In a Jupyter cell you can just await the coroutine\n",
    "await test()"
   ]
  },
  {
   "cell_type": "code",
   "execution_count": 1,
   "id": "74996cae-908d-44aa-af24-f1ab37019bf3",
   "metadata": {},
   "outputs": [],
   "source": [
    "from autogen_agentchat.messages import TextMessage\n",
    "\n",
    "text_message = TextMessage(content=\"Hello, world!\", source=\"User\")\n"
   ]
  },
  {
   "cell_type": "code",
   "execution_count": 4,
   "id": "ce149fb4-ce57-400a-a68e-b00bda9cad14",
   "metadata": {},
   "outputs": [
    {
     "data": {
      "text/plain": [
       "TextMessage(id='f2218180-66d1-483f-b2e6-89280433cf2d', source='User', models_usage=None, metadata={}, created_at=datetime.datetime(2025, 9, 27, 2, 31, 3, 887717, tzinfo=datetime.timezone.utc), content='Hello, world!', type='TextMessage')"
      ]
     },
     "execution_count": 4,
     "metadata": {},
     "output_type": "execute_result"
    }
   ],
   "source": [
    "text_message"
   ]
  },
  {
   "cell_type": "code",
   "execution_count": 2,
   "id": "f1c947a8-3bba-49a3-9449-65694b3e9058",
   "metadata": {},
   "outputs": [
    {
     "data": {
      "text/html": [
       "<img src=\"data:image/png;base64,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\"/>"
      ],
      "text/plain": [
       "<autogen_core._image.Image at 0x1e0630e3640>"
      ]
     },
     "execution_count": 2,
     "metadata": {},
     "output_type": "execute_result"
    }
   ],
   "source": [
    "from io import BytesIO\n",
    "\n",
    "import requests\n",
    "from autogen_agentchat.messages import MultiModalMessage\n",
    "from autogen_core import Image as AGImage\n",
    "from PIL import Image\n",
    "\n",
    "pil_image = Image.open(BytesIO(requests.get(\"https://picsum.photos/300/200\").content))\n",
    "img = AGImage(pil_image)\n",
    "multi_modal_message = MultiModalMessage(content=[\"Can you describe the content of this image?\", img], source=\"User\")\n",
    "img\n"
   ]
  },
  {
   "cell_type": "code",
   "execution_count": 3,
   "id": "6f174cae-43bd-4da5-beee-6e8492d217d5",
   "metadata": {},
   "outputs": [
    {
     "name": "stdout",
     "output_type": "stream",
     "text": [
      "Defaulting to user installation because normal site-packages is not writeableNote: you may need to restart the kernel to use updated packages.\n"
     ]
    },
    {
     "name": "stderr",
     "output_type": "stream",
     "text": [
      "\n",
      "[notice] A new release of pip is available: 25.0.1 -> 25.2\n",
      "[notice] To update, run: C:\\Program Files\\Python310\\python.exe -m pip install --upgrade pip\n"
     ]
    },
    {
     "name": "stdout",
     "output_type": "stream",
     "text": [
      "\n",
      "Requirement already satisfied: autogen-agentchat in c:\\users\\lenovo\\appdata\\roaming\\python\\python310\\site-packages (0.7.4)\n",
      "Requirement already satisfied: autogen-core in c:\\users\\lenovo\\appdata\\roaming\\python\\python310\\site-packages (0.7.4)\n",
      "Requirement already satisfied: autogen-ext in c:\\users\\lenovo\\appdata\\roaming\\python\\python310\\site-packages (0.7.4)\n",
      "Requirement already satisfied: openai in c:\\users\\lenovo\\appdata\\roaming\\python\\python310\\site-packages (1.98.0)\n",
      "Requirement already satisfied: jsonref~=1.1.0 in c:\\users\\lenovo\\appdata\\roaming\\python\\python310\\site-packages (from autogen-core) (1.1.0)\n",
      "Requirement already satisfied: opentelemetry-api>=1.34.1 in c:\\users\\lenovo\\appdata\\roaming\\python\\python310\\site-packages (from autogen-core) (1.37.0)\n",
      "Requirement already satisfied: pillow>=11.0.0 in c:\\users\\lenovo\\appdata\\roaming\\python\\python310\\site-packages (from autogen-core) (11.1.0)\n",
      "Requirement already satisfied: protobuf~=5.29.3 in c:\\users\\lenovo\\appdata\\roaming\\python\\python310\\site-packages (from autogen-core) (5.29.5)\n",
      "Requirement already satisfied: pydantic<3.0.0,>=2.10.0 in c:\\users\\lenovo\\appdata\\roaming\\python\\python310\\site-packages (from autogen-core) (2.11.7)\n",
      "Requirement already satisfied: typing-extensions>=4.0.0 in c:\\users\\lenovo\\appdata\\roaming\\python\\python310\\site-packages (from autogen-core) (4.14.1)\n",
      "Requirement already satisfied: anyio<5,>=3.5.0 in c:\\users\\lenovo\\appdata\\roaming\\python\\python310\\site-packages (from openai) (4.9.0)\n",
      "Requirement already satisfied: distro<2,>=1.7.0 in c:\\users\\lenovo\\appdata\\roaming\\python\\python310\\site-packages (from openai) (1.9.0)\n",
      "Requirement already satisfied: httpx<1,>=0.23.0 in c:\\users\\lenovo\\appdata\\roaming\\python\\python310\\site-packages (from openai) (0.28.1)\n",
      "Requirement already satisfied: jiter<1,>=0.4.0 in c:\\users\\lenovo\\appdata\\roaming\\python\\python310\\site-packages (from openai) (0.10.0)\n",
      "Requirement already satisfied: sniffio in c:\\users\\lenovo\\appdata\\roaming\\python\\python310\\site-packages (from openai) (1.3.1)\n",
      "Requirement already satisfied: tqdm>4 in c:\\users\\lenovo\\appdata\\roaming\\python\\python310\\site-packages (from openai) (4.67.1)\n",
      "Requirement already satisfied: exceptiongroup>=1.0.2 in c:\\users\\lenovo\\appdata\\roaming\\python\\python310\\site-packages (from anyio<5,>=3.5.0->openai) (1.3.0)\n",
      "Requirement already satisfied: idna>=2.8 in c:\\users\\lenovo\\appdata\\roaming\\python\\python310\\site-packages (from anyio<5,>=3.5.0->openai) (3.10)\n",
      "Requirement already satisfied: certifi in c:\\users\\lenovo\\appdata\\roaming\\python\\python310\\site-packages (from httpx<1,>=0.23.0->openai) (2025.7.14)\n",
      "Requirement already satisfied: httpcore==1.* in c:\\users\\lenovo\\appdata\\roaming\\python\\python310\\site-packages (from httpx<1,>=0.23.0->openai) (1.0.9)\n",
      "Requirement already satisfied: h11>=0.16 in c:\\users\\lenovo\\appdata\\roaming\\python\\python310\\site-packages (from httpcore==1.*->httpx<1,>=0.23.0->openai) (0.16.0)\n",
      "Requirement already satisfied: importlib-metadata<8.8.0,>=6.0 in c:\\users\\lenovo\\appdata\\roaming\\python\\python310\\site-packages (from opentelemetry-api>=1.34.1->autogen-core) (8.6.1)\n",
      "Requirement already satisfied: annotated-types>=0.6.0 in c:\\users\\lenovo\\appdata\\roaming\\python\\python310\\site-packages (from pydantic<3.0.0,>=2.10.0->autogen-core) (0.7.0)\n",
      "Requirement already satisfied: pydantic-core==2.33.2 in c:\\users\\lenovo\\appdata\\roaming\\python\\python310\\site-packages (from pydantic<3.0.0,>=2.10.0->autogen-core) (2.33.2)\n",
      "Requirement already satisfied: typing-inspection>=0.4.0 in c:\\users\\lenovo\\appdata\\roaming\\python\\python310\\site-packages (from pydantic<3.0.0,>=2.10.0->autogen-core) (0.4.1)\n",
      "Requirement already satisfied: colorama in c:\\users\\lenovo\\appdata\\roaming\\python\\python310\\site-packages (from tqdm>4->openai) (0.4.6)\n",
      "Requirement already satisfied: zipp>=3.20 in c:\\users\\lenovo\\appdata\\roaming\\python\\python310\\site-packages (from importlib-metadata<8.8.0,>=6.0->opentelemetry-api>=1.34.1->autogen-core) (3.21.0)\n"
     ]
    }
   ],
   "source": [
    "%pip install autogen-agentchat autogen-core autogen-ext openai"
   ]
  },
  {
   "cell_type": "code",
   "execution_count": 5,
   "id": "e3040802-8dc8-4d45-8f16-d982b148efa3",
   "metadata": {},
   "outputs": [],
   "source": [
    "from autogen_agentchat.agents import AssistantAgent\n",
    "from autogen_agentchat.messages import StructuredMessage\n",
    "from autogen_agentchat.ui import Console\n",
    "from autogen_ext.models.openai import OpenAIChatCompletionClient\n"
   ]
  },
  {
   "cell_type": "code",
   "execution_count": 8,
   "id": "f39e638c-dce6-4bc7-a50f-03bd6a868ad8",
   "metadata": {},
   "outputs": [
    {
     "name": "stdout",
     "output_type": "stream",
     "text": [
      "raw response: finish_reason='stop' content='The capital of France is **Paris**. 🇫🇷  \\n' usage=RequestUsage(prompt_tokens=16, completion_tokens=14) cached=False logprobs=None thought=None\n",
      "reply: The capital of France is **Paris**. 🇫🇷  \n",
      "\n"
     ]
    }
   ],
   "source": [
    "# Jupyter-friendly: top-level await\n",
    "from autogen_core.models import UserMessage\n",
    "from autogen_ext.models.ollama import OllamaChatCompletionClient\n",
    "\n",
    "# If your Ollama client supports base_url you can pass it (use http://127.0.0.1:11434 if needed).\n",
    "# If not supported, omit base_url and client will use localhost:11434 by default.\n",
    "client = OllamaChatCompletionClient(model=\"gemma2:2b\", base_url=\"http://127.0.0.1:11434\")\n",
    "\n",
    "resp = await client.create([UserMessage(content=\"What is the capital of France?\", source=\"user\")])\n",
    "\n",
    "# Inspect the raw response to find where the text is. Common shapes:\n",
    "print(\"raw response:\", resp)\n",
    "# Try common access patterns:\n",
    "try:\n",
    "    print(\"reply:\", resp[0].content)\n",
    "except Exception:\n",
    "    try:\n",
    "        print(\"reply:\", resp.content)\n",
    "    except Exception:\n",
    "        # If the client returns a more complex object, inspect type/dir:\n",
    "        print(type(resp))\n",
    "        print(dir(resp))\n",
    "\n",
    "await client.close()"
   ]
  },
  {
   "cell_type": "code",
   "execution_count": 10,
   "id": "c7505c1c-7308-4c05-87c4-544be754d72a",
   "metadata": {},
   "outputs": [
    {
     "name": "stdout",
     "output_type": "stream",
     "text": [
      "raw: finish_reason='stop' content='The capital of France is **Paris**. 🇫🇷 \\n' usage=RequestUsage(prompt_tokens=16, completion_tokens=14) cached=False logprobs=None thought=None\n"
     ]
    }
   ],
   "source": [
    "# Jupyter cell (top-level await)\n",
    "from autogen_core.models import UserMessage\n",
    "from autogen_ext.models.ollama import OllamaChatCompletionClient\n",
    "from autogen_agentchat.agents import AssistantAgent\n",
    "\n",
    "# Create the Ollama client (adjust base_url if needed)\n",
    "client = OllamaChatCompletionClient(model=\"gemma2:2b\", base_url=\"http://127.0.0.1:11434\")\n",
    "\n",
    "# Force the model_info flag so AssistantAgent will accept tools (HACK)\n",
    "if not hasattr(client, \"model_info\") or client.model_info is None:\n",
    "    client.model_info = {}\n",
    "client.model_info[\"function_calling\"] = True\n",
    "\n",
    "# Define your async tool (example)\n",
    "async def web_search(query: str) -> str:\n",
    "    return \"AutoGen is a programming framework for building multi-agent applications.\"\n",
    "\n",
    "# Create the agent (will not raise the ValueError now)\n",
    "agent = AssistantAgent(\n",
    "    name=\"assistant\",\n",
    "    model_client=client,\n",
    "    tools=[web_search],\n",
    "    system_message=\"Use tools to solve tasks.\",\n",
    ")\n",
    "\n",
    "# You can still call the model directly to debug output\n",
    "resp = await client.create([UserMessage(content=\"What is the capital of France?\", source=\"user\")])\n",
    "print(\"raw:\", resp)\n",
    "\n",
    "await client.close()"
   ]
  },
  {
   "cell_type": "code",
   "execution_count": 11,
   "id": "8777ee21-61d6-4d0d-865c-12ef84515aab",
   "metadata": {},
   "outputs": [
    {
     "name": "stdout",
     "output_type": "stream",
     "text": [
      "reply:  \n",
      "\n",
      "[Tool:wikipedia]\n",
      "AutoGen is a **multi-agent system (MAS)** framework, often used in artificial intelligence (AI) research and development.  It allows developers to easily create complex simulations with multiple autonomous agents interacting with each other and their environment. \n",
      "\n"
     ]
    }
   ],
   "source": [
    "# Jupyter cell (top-level await)\n",
    "from autogen_core.models import UserMessage, AssistantMessage\n",
    "from autogen_ext.models.ollama import OllamaChatCompletionClient\n",
    "\n",
    "# Ollama client\n",
    "client = OllamaChatCompletionClient(model=\"gemma2:2b\", base_url=\"http://127.0.0.1:11434\")\n",
    "\n",
    "# Your tool (same as before)\n",
    "async def web_search(query: str) -> str:\n",
    "    return \"AutoGen is a programming framework for building multi-agent applications.\"\n",
    "\n",
    "# User asks the agent a question that requires the web tool\n",
    "user_text = \"Use tools to find what AutoGen is and reply concisely.\"\n",
    "\n",
    "# 1) Run the tool yourself\n",
    "tool_output = await web_search(\"What is AutoGen?\")\n",
    "\n",
    "# 2) Provide the tool output to the model as an assistant message (so the model can use it)\n",
    "messages = [\n",
    "    UserMessage(content=user_text, source=\"user\"),\n",
    "    AssistantMessage(content=f\"[Tool:web_search]\\nResult:\\n{tool_output}\", source=\"assistant\"),\n",
    "]\n",
    "\n",
    "# 3) Ask the model to generate the final reply\n",
    "resp = await client.create(messages)\n",
    "# Try common ways to extract content:\n",
    "try:\n",
    "    print(\"reply:\", resp[0].content)   # if list\n",
    "except Exception:\n",
    "    try:\n",
    "        print(\"reply:\", resp.content)  # if object\n",
    "    except Exception:\n",
    "        print(\"resp repr:\", repr(resp))\n",
    "\n",
    "await client.close()"
   ]
  },
  {
   "cell_type": "code",
   "execution_count": null,
   "id": "3eefc1d2-83d4-4e9e-851a-0eab4f5c7aea",
   "metadata": {},
   "outputs": [],
   "source": []
  }
 ],
 "metadata": {
  "kernelspec": {
   "display_name": "Python 3 (ipykernel)",
   "language": "python",
   "name": "python3"
  },
  "language_info": {
   "codemirror_mode": {
    "name": "ipython",
    "version": 3
   },
   "file_extension": ".py",
   "mimetype": "text/x-python",
   "name": "python",
   "nbconvert_exporter": "python",
   "pygments_lexer": "ipython3",
   "version": "3.10.11"
  }
 },
 "nbformat": 4,
 "nbformat_minor": 5
}
